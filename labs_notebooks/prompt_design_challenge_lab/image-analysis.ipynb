{
 "cells": [
  {
   "cell_type": "code",
   "execution_count": 3,
   "id": "1f7887d1-d784-4eac-baac-9ddc701e68dc",
   "metadata": {
    "tags": []
   },
   "outputs": [
    {
     "name": "stdout",
     "output_type": "stream",
     "text": [
      "Okay, here are three marketing phrases and a poetic summary of a nature-focused ad campaign based on the provided image.\n",
      "\n",
      "**Marketing Phrases:**\n",
      "\n",
      "1.  **Unfold your adventure. Pack your dreams.**\n",
      "2.  **Wander Wild, Prepared and Free.**\n",
      "3.  **Comfort meets confidence, wherever you roam.**\n",
      "\n",
      "**Poetic Ad Campaign Summary:**\n",
      "\n",
      "*Scenes open on sweeping vistas of wildflowers and majestic mountains.*\n",
      "\n",
      "*Close up of our pack, perfectly integrated into the vibrant landscape.*\n",
      "\n",
      "*Footsteps fall lightly on trails.*\n",
      "\n",
      "*A lone hiker smiles. Connection and beauty abounds*\n",
      "\n",
      "*Voiceover, reflecting the above statements about preparing yourself with our bags, and going for a beautiful hike in nature. Bring along family members to hike or bike in your favorite locations with them.*\n",
      "\n",
      "Let me know if you'd like more variations!\n"
     ]
    }
   ],
   "source": [
    "from google import genai\n",
    "from google.genai import types\n",
    "import base64\n",
    "\n",
    "def generate():\n",
    "  client = genai.Client(\n",
    "      vertexai=True,\n",
    "      project=\"qwiklabs-gcp-00-4aedb39c9ffe\",\n",
    "      location=\"us-east1\",\n",
    "  )\n",
    "\n",
    "  image1 = types.Part.from_uri(\n",
    "      file_uri=\"gs://qwiklabs-gcp-00-4aedb39c9ffe-labconfig-bucket/cymbal-product-image.png\",\n",
    "      mime_type=\"image/png\",\n",
    "  )\n",
    "  text1 = types.Part.from_text(text=\"\"\"provide a list of three inviting marketing phrases for the attached products. Along with the three phrases, suggest a poetic summary of how a nature-focused advertising campaign for this product would look, limit each phrase to less than 10 words\"\"\")\n",
    "  si_text1 = \"\"\"You are a brand manager for a outdoor products company.  You are working with a collaborator to come up with marketing descriptions and slogans / phrases for and advertising campaign.\"\"\"\n",
    "\n",
    "  model = \"gemini-2.0-flash-001\"\n",
    "  contents = [\n",
    "    types.Content(\n",
    "      role=\"user\",\n",
    "      parts=[\n",
    "        image1,\n",
    "        text1\n",
    "      ]\n",
    "    )\n",
    "  ]\n",
    "  generate_content_config = types.GenerateContentConfig(\n",
    "    temperature = 2,\n",
    "    top_p = 0.95,\n",
    "    max_output_tokens = 8192,\n",
    "    response_modalities = [\"TEXT\"],\n",
    "    system_instruction=[types.Part.from_text(text=si_text1)],\n",
    "  )\n",
    "\n",
    "  for chunk in client.models.generate_content_stream(\n",
    "    model = model,\n",
    "    contents = contents,\n",
    "    config = generate_content_config,\n",
    "    ):\n",
    "    print(chunk.text, end=\"\")\n",
    "\n",
    "generate()"
   ]
  },
  {
   "cell_type": "code",
   "execution_count": null,
   "id": "5dc5d76e-1ae2-4eea-a4c1-b93e73caf993",
   "metadata": {},
   "outputs": [],
   "source": []
  }
 ],
 "metadata": {
  "environment": {
   "kernel": "conda-base-py",
   "name": "workbench-notebooks.m128",
   "type": "gcloud",
   "uri": "us-docker.pkg.dev/deeplearning-platform-release/gcr.io/workbench-notebooks:m128"
  },
  "kernelspec": {
   "display_name": "Python 3 (ipykernel) (Local)",
   "language": "python",
   "name": "conda-base-py"
  },
  "language_info": {
   "codemirror_mode": {
    "name": "ipython",
    "version": 3
   },
   "file_extension": ".py",
   "mimetype": "text/x-python",
   "name": "python",
   "nbconvert_exporter": "python",
   "pygments_lexer": "ipython3",
   "version": "3.10.16"
  }
 },
 "nbformat": 4,
 "nbformat_minor": 5
}
