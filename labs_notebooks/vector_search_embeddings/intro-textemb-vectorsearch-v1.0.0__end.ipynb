{
 "cells": [
  {
   "cell_type": "code",
   "execution_count": null,
   "metadata": {
    "id": "c3_K0GGSTrhd"
   },
   "outputs": [],
   "source": [
    "# Copyright 2023 Google LLC\n",
    "#\n",
    "# Licensed under the Apache License, Version 2.0 (the \"License\");\n",
    "# you may not use this file except in compliance with the License.\n",
    "# You may obtain a copy of the License at\n",
    "#\n",
    "#     https://www.apache.org/licenses/LICENSE-2.0\n",
    "#\n",
    "# Unless required by applicable law or agreed to in writing, software\n",
    "# distributed under the License is distributed on an \"AS IS\" BASIS,\n",
    "# WITHOUT WARRANTIES OR CONDITIONS OF ANY KIND, either express or implied.\n",
    "# See the License for the specific language governing permissions and\n",
    "# limitations under the License."
   ]
  },
  {
   "cell_type": "markdown",
   "metadata": {
    "id": "7VQkf8sFTeDo"
   },
   "source": [
    "# Getting Started with Text Embeddings + Vertex AI Vector Search\n",
    "\n",
    "\n",
    "<table align=\"left\">\n",
    "  <td style=\"text-align: center\">\n",
    "    <a href=\"https://colab.research.google.com/github/GoogleCloudPlatform/generative-ai/blob/main/embeddings/intro-textemb-vectorsearch.ipynb\">\n",
    "      <img width=\"32px\" src=\"https://www.gstatic.com/pantheon/images/bigquery/welcome_page/colab-logo.svg\" alt=\"Google Colaboratory logo\"><br> Open in Colab\n",
    "    </a>\n",
    "  </td>\n",
    "  <td style=\"text-align: center\">\n",
    "    <a href=\"https://console.cloud.google.com/vertex-ai/colab/import/https:%2F%2Fraw.githubusercontent.com%2FGoogleCloudPlatform%2Fgenerative-ai%2Fmain%2Fembeddings%2Fintro-textemb-vectorsearch.ipynb\">\n",
    "      <img width=\"32px\" src=\"https://lh3.googleusercontent.com/JmcxdQi-qOpctIvWKgPtrzZdJJK-J3sWE1RsfjZNwshCFgE_9fULcNpuXYTilIR2hjwN\" alt=\"Google Cloud Colab Enterprise logo\"><br> Open in Colab Enterprise\n",
    "    </a>\n",
    "  </td>\n",
    "  <td style=\"text-align: center\">\n",
    "    <a href=\"https://console.cloud.google.com/vertex-ai/workbench/deploy-notebook?download_url=https://raw.githubusercontent.com/GoogleCloudPlatform/generative-ai/main/embeddings/intro-textemb-vectorsearch.ipynb\">\n",
    "      <img src=\"https://www.gstatic.com/images/branding/gcpiconscolors/vertexai/v1/32px.svg\" alt=\"Vertex AI logo\"><br> Open in Vertex AI Workbench\n",
    "    </a>\n",
    "  </td>\n",
    "  <td style=\"text-align: center\">\n",
    "    <a href=\"https://console.cloud.google.com/bigquery/import?url=https://github.com/GoogleCloudPlatform/generative-ai/blob/main/embeddings/intro-textemb-vectorsearch.ipynb\">\n",
    "      <img src=\"https://www.gstatic.com/images/branding/gcpiconscolors/bigquery/v1/32px.svg\" alt=\"BigQuery Studio logo\"><br> Open in BigQuery Studio\n",
    "    </a>\n",
    "  </td>\n",
    "  <td style=\"text-align: center\">\n",
    "    <a href=\"https://github.com/GoogleCloudPlatform/generative-ai/blob/main/embeddings/intro-textemb-vectorsearch.ipynb\">\n",
    "      <img width=\"32px\" src=\"https://upload.wikimedia.org/wikipedia/commons/9/91/Octicons-mark-github.svg\" alt=\"GitHub logo\"><br> View on GitHub\n",
    "    </a>\n",
    "  </td>\n",
    "</table>\n",
    "\n",
    "<div style=\"clear: both;\"></div>\n",
    "\n",
    "<b>Share to:</b>\n",
    "\n",
    "<a href=\"https://www.linkedin.com/sharing/share-offsite/?url=https%3A//github.com/GoogleCloudPlatform/generative-ai/blob/main/embeddings/intro-textemb-vectorsearch.ipynb\" target=\"_blank\">\n",
    "  <img width=\"20px\" src=\"https://upload.wikimedia.org/wikipedia/commons/8/81/LinkedIn_icon.svg\" alt=\"LinkedIn logo\">\n",
    "</a>\n",
    "\n",
    "<a href=\"https://bsky.app/intent/compose?text=https%3A//github.com/GoogleCloudPlatform/generative-ai/blob/main/embeddings/intro-textemb-vectorsearch.ipynb\" target=\"_blank\">\n",
    "  <img width=\"20px\" src=\"https://upload.wikimedia.org/wikipedia/commons/7/7a/Bluesky_Logo.svg\" alt=\"Bluesky logo\">\n",
    "</a>\n",
    "\n",
    "<a href=\"https://twitter.com/intent/tweet?url=https%3A//github.com/GoogleCloudPlatform/generative-ai/blob/main/embeddings/intro-textemb-vectorsearch.ipynb\" target=\"_blank\">\n",
    "  <img width=\"20px\" src=\"https://upload.wikimedia.org/wikipedia/commons/5/53/X_logo_2023_original.svg\" alt=\"X logo\">\n",
    "</a>\n",
    "\n",
    "<a href=\"https://reddit.com/submit?url=https%3A//github.com/GoogleCloudPlatform/generative-ai/blob/main/embeddings/intro-textemb-vectorsearch.ipynb\" target=\"_blank\">\n",
    "  <img width=\"20px\" src=\"https://redditinc.com/hubfs/Reddit%20Inc/Brand/Reddit_Logo.png\" alt=\"Reddit logo\">\n",
    "</a>\n",
    "\n",
    "<a href=\"https://www.facebook.com/sharer/sharer.php?u=https%3A//github.com/GoogleCloudPlatform/generative-ai/blob/main/embeddings/intro-textemb-vectorsearch.ipynb\" target=\"_blank\">\n",
    "  <img width=\"20px\" src=\"https://upload.wikimedia.org/wikipedia/commons/5/51/Facebook_f_logo_%282019%29.svg\" alt=\"Facebook logo\">\n",
    "</a>            "
   ]
  },
  {
   "cell_type": "markdown",
   "metadata": {
    "id": "4d742715e6de"
   },
   "source": [
    "| | |\n",
    "|-|-|\n",
    "|Author(s) | [Smitha Venkat](https://github.com/smitha-google), [Kaz Sato](https://github.com/kazunori279)|"
   ]
  },
  {
   "cell_type": "markdown",
   "metadata": {
    "id": "25a71983a324"
   },
   "source": [
    "## Introduction\n",
    "\n",
    "In this tutorial, you learn how to use Google Cloud AI tools to quickly bring the power of Large Language Models to enterprise systems.  \n",
    "\n",
    "This tutorial covers the following -\n",
    "\n",
    "*   What are embeddings - what business challenges do they help solve ?\n",
    "*   Understanding Text with Vertex AI Text Embeddings\n",
    "*   Find Embeddings fast with Vertex AI Vector Search\n",
    "*   Grounding LLM outputs with Vector Search\n",
    "\n",
    "This tutorial is based on [the blog post](https://cloud.google.com/blog/products/ai-machine-learning/how-to-use-grounding-for-your-llms-with-text-embeddings), combined with sample code.\n",
    "\n",
    "\n",
    "### Prerequisites\n",
    "\n",
    "This tutorial is designed for developers who has basic knowledge and experience with Python programming and machine learning.\n",
    "\n",
    "If you are not reading this tutorial in Qwiklab, then you need to have a Google Cloud project that is linked to a billing account to run this. Please go through [this document](https://cloud.google.com/vertex-ai/docs/start/cloud-environment) to create a project and setup a billing account for it.\n",
    "\n",
    "### Choose the runtime environment\n",
    "\n",
    "The notebook can be run on either Google Colab or [Vertex AI Workbench](https://cloud.google.com/vertex-ai-workbench).\n",
    "\n",
    "- To use Colab: Click [this link](https://colab.research.google.com/github/GoogleCloudPlatform/generative-ai/blob/main/embeddings/intro-textemb-vectorsearch.ipynb) to open the tutorial in Colab.\n",
    "\n",
    "- To use Workbench: If it is the first time to use Workbench in your Google Cloud project, open [the Workbench console](https://console.cloud.google.com/vertex-ai/workbench) and click ENABLE button to enable Notebooks API. Then click [this link](https://console.cloud.google.com/vertex-ai/workbench/deploy-notebook?download_url=https://raw.githubusercontent.com/GoogleCloudPlatform/generative-ai/main/embeddings/intro-textemb-vectorsearch.ipynb),  and select an existing notebook or create a new notebook.\n"
   ]
  },
  {
   "cell_type": "markdown",
   "metadata": {
    "id": "2pImjuenUIQz"
   },
   "source": [
    "### How much will this cost?\n",
    "\n",
    "In case you are using your own Cloud project, not a temporary project on Qwiklab, you need to spend roughly a few US dollars to finish this tutorial.\n",
    "\n",
    "The pricing of the Cloud services we will use in this tutorial are available in the following pages:\n",
    "\n",
    "- [Vertex AI Embeddings for Text](https://cloud.google.com/vertex-ai/pricing#generative_ai_models)\n",
    "- [Vertex AI Vector Search](https://cloud.google.com/vertex-ai/pricing#matchingengine)\n",
    "- [BigQuery](https://cloud.google.com/bigquery/pricing)\n",
    "- [Cloud Storage](https://cloud.google.com/storage/pricing)\n",
    "- [Vertex AI Workbench](https://cloud.google.com/vertex-ai/pricing#notebooks) if you use one\n",
    "\n",
    "You can use the [Pricing Calculator](https://cloud.google.com/products/calculator) to generate a cost estimate based on your projected usage. The following is an example of rough cost estimation with the calculator, assuming you will go through this tutorial a couple of time.\n",
    "\n",
    "<img src=\"https://storage.googleapis.com/github-repo/img/embeddings/vs-quickstart/pricing.png\" width=\"50%\"/>\n",
    "\n",
    "### **Warning: delete your objects after the tutorial**\n",
    "\n",
    "In case you are using your own Cloud project, please make sure to delete all the Indexes, Index Endpoints and Cloud Storage buckets (and the Workbench instance if you use one) after finishing this tutorial. Otherwise the remaining assets would incur unexpected costs.\n"
   ]
  },
  {
   "cell_type": "markdown",
   "metadata": {
    "id": "6Fu2OoUDTQ6w"
   },
   "source": [
    "# Bringing Gen AI and LLMs to production services\n",
    "\n",
    "Many people are now starting to think about how to bring Gen AI and LLMs to production services, and facing with several challenges.\n",
    "\n",
    "- \"How to integrate LLMs or AI chatbots with existing IT systems, databases and business data?\"\n",
    "- \"We have thousands of products. How can I let LLM memorize them all precisely?\"\n",
    "- \"How to handle the hallucination issues in AI chatbots to build a reliable service?\"\n",
    "\n",
    "Here is a quick solution: **grounding** with **embeddings** and **vector search**.\n",
    "\n",
    "What is grounding? What are embedding and vector search? In this tutorial, we will learn these crucial concepts to build reliable Gen AI services for enterprise use. But before we dive deeper, let's try the demo below."
   ]
  },
  {
   "cell_type": "markdown",
   "metadata": {
    "id": "ORqZYLgTm9pJ"
   },
   "source": [
    "![](https://storage.googleapis.com/gweb-cloudblog-publish/original_images/1._demo_animation.gif)\n",
    "\n",
    "**Exercise: Try the Stack Overflow semantic search demo:**\n",
    "\n",
    "This demo is available as a [public live demo](https://ai-demos.dev/). Select \"STACKOVERFLOW\" and enter any coding question as a query, so it runs a text search on **8 million** questions posted on [Stack Overflow](https://stackoverflow.com/). Try the text semantic search with some queries like 'How to shuffle rows in SQL?' or arbitrary programming questions.\n",
    "\n",
    "In this tutorial, we are going to see how to build a similar search experience - what is involved in building solutions like this using Vertex AI Embeddings API and Vector Search."
   ]
  },
  {
   "cell_type": "markdown",
   "metadata": {
    "id": "H1MAIOkCw35V"
   },
   "source": [
    "# What is Embeddings?\n",
    "\n",
    "With the rise of LLMs, why is it becoming important for IT engineers and ITDMs to understand how they work?\n",
    "\n",
    "In traditional IT systems, most data is organized as structured or tabular data, using simple keywords, labels, and categories in databases and search engines.\n",
    "\n",
    "![](https://storage.googleapis.com/github-repo/img/embeddings/textemb-vs-notebook/1.png)\n",
    "\n",
    "In contrast, AI-powered services arrange data into a simple data structure known as \"embeddings.\"\n",
    "\n",
    "![](https://storage.googleapis.com/github-repo/img/embeddings/textemb-vs-notebook/2.png)"
   ]
  },
  {
   "cell_type": "markdown",
   "metadata": {
    "id": "hJqjBmQsxz2Z"
   },
   "source": [
    "Once trained with specific content like text, images, or any content, AI creates a space called \"embedding space\", which is essentially a map of the content's meaning.\n",
    "\n",
    "![](https://storage.googleapis.com/github-repo/img/embeddings/textemb-vs-notebook/3.png)\n",
    "\n",
    "AI can identify the location of each content on the map, that's what embedding is.\n",
    "\n",
    "![](https://storage.googleapis.com/github-repo/img/embeddings/textemb-vs-notebook/4.png)\n",
    "\n",
    "Let's take an example where a text discusses movies, music, and actors, with a distribution of 10%, 2%, and 30%, respectively. In this case, the AI can create an embedding with three values: 0.1, 0.02, and 0.3, in 3 dimensional space.\n",
    "\n",
    "![](https://storage.googleapis.com/github-repo/img/embeddings/textemb-vs-notebook/5.png)\n",
    "\n",
    "AI can put content with similar meanings closely together in the space."
   ]
  },
  {
   "cell_type": "markdown",
   "metadata": {
    "id": "A5z7vyTyzk_4"
   },
   "source": [
    "This is how Google organizes data across various services like Google Search, YouTube, Play, and many others, to provide search results and recommendations with relevant content.\n",
    "\n",
    "Embeddings can also be used to represent different types of things in businesses, such as products, users, user activities, conversations, music & videos, signals from IoT sensors, and so on."
   ]
  },
  {
   "cell_type": "markdown",
   "metadata": {
    "id": "tpKVmyEe0ab9"
   },
   "source": [
    "AI and Embeddings are now playing a crucial role in creating a new way of human-computer interaction.\n",
    "\n",
    "![](https://storage.googleapis.com/github-repo/img/embeddings/textemb-vs-notebook/6.png)\n",
    "\n",
    "AI organizes data into embeddings, which represent what the user is looking for, the meaning of contents, or many other things you have in your business. This creates a new level of user experience that is becoming the new standard.\n",
    "\n",
    "To learn more about embeddings, [Foundational courses: Embeddings on Google Machine Learning Crush Course](https://developers.google.com/machine-learning/crash-course/embeddings/video-lecture) and [Meet AI's multitool: Vector embeddings by Dale Markowitz](https://cloud.google.com/blog/topics/developers-practitioners/meet-ais-multitool-vector-embeddings) are great materials.\n"
   ]
  },
  {
   "cell_type": "markdown",
   "metadata": {
    "id": "ovQpiL2GUEXa"
   },
   "source": [
    "# Vertex AI Embeddings for Text\n",
    "\n",
    "With the [Vertex AI Embeddings for Text](https://cloud.google.com/vertex-ai/docs/generative-ai/embeddings/get-text-embeddings), you can easily create a text embedding with LLM. The product is also available on [Vertex AI Model Garden](https://cloud.google.com/model-garden)\n",
    "\n",
    "![](https://storage.googleapis.com/github-repo/img/embeddings/textemb-vs-notebook/7.png)\n",
    "\n",
    "This API is designed to extract embeddings from texts. It can take text input up to 2048 input tokens, and outputs 768 dimensional text embeddings."
   ]
  },
  {
   "cell_type": "markdown",
   "metadata": {
    "id": "nwJHDPG7lU52"
   },
   "source": [
    "## LLM text embedding business use cases\n",
    "\n",
    "With the embedding API, you can apply the innovation of embeddings, combined with the LLM capability, to various text processing tasks, such as:\n",
    "\n",
    "**LLM-enabled Semantic Search**: text embeddings can be used to represent both the meaning and intent of a user's query and documents in the embedding space. Documents that have similar meaning to the user's query intent will be found fast with vector search technology. The model is capable of generating text embeddings that capture the subtle nuances of each sentence and paragraphs in the document.\n",
    "\n",
    "**LLM-enabled Text Classification**: LLM text embeddings can be used for text classification with a deep understanding of different contexts without any training or fine-tuning (so-called zero-shot learning). This wasn't possible with the past language models without task-specific training.\n",
    "\n",
    "**LLM-enabled Recommendation**: The text embedding can be used for recommendation systems as a strong feature for training recommendation models such as Two-Tower model. The model learns the relationship between the query and candidate embeddings, resulting in next-gen user experience with semantic product recommendation.\n",
    "\n",
    "LLM-enabled Clustering, Anomaly Detection, Sentiment Analysis, and more, can be also handled with the LLM-level deep semantics understanding.\n"
   ]
  },
  {
   "cell_type": "markdown",
   "metadata": {
    "id": "ga5A7koYlvlZ"
   },
   "source": [
    "## Sorting 8 million texts at \"librarian-level\" precision\n",
    "\n",
    "Vertex AI Embeddings for Text has an embedding space with 768 dimensions. As explained earlier, the space represents a huge map of a wide variety of texts in the world, organized by their meanings. With each input text, the model can find a location (embedding) in the map.\n",
    "\n",
    "By visualizing the embedding space, you can actually observe how the model sorts the texts at the \"librarian-level\" precision.\n",
    "\n",
    "**Exercise: Try the Nomic AI Atlas**\n",
    "\n",
    "[Nomic AI](http://nomic.ai/) provides a platform called Atlas for storing, visualizing and interacting with embedding spaces with high scalability and in a smooth UI, and they worked with Google for visualizing the embedding space of the 8 million Stack Overflow questions. You can try exploring around the space, zooming in and out to each data point on your browser on this page, courtesy of Nomic AI.\n",
    "\n",
    "The embedding space represents a huge map of texts, organized by their meanings\n",
    "With each input text, the model can find a location (embedding) in the map\n",
    "Like a librarian reading through millions of texts, sorting them with millions of nano-categories\n",
    "\n",
    "Try exploring it [here](https://atlas.nomic.ai/map/edaff028-12b5-42a0-8e8b-6430c9b8222b/bcb42818-3581-4fb5-ac30-9883d01f98ec). Zoom into a few categories, point each dots, and see how the LLM is sorting similar questions close together in the space.\n",
    "\n",
    "![](https://storage.googleapis.com/gweb-cloudblog-publish/images/4._Nomic_AI_Atlas.max-2200x2200.png)\n",
    "\n",
    "### The librarian-level semantic understanding\n",
    "\n",
    "Here are the examples of the librarian-level semantic understanding by Embeddings API with Stack Overflow questions.\n",
    "\n",
    "![](https://storage.googleapis.com/gweb-cloudblog-publish/images/5._semantic_understanding.max-2200x2200.png)\n",
    "\n",
    "For example, the model thinks the question \"Does moving the request line to a header frame require an app change?\" is similar to the question \"Does an application developed on HTTP1x require modifications to run on HTTP2?\". That is because The model knows both questions talk about what's the change required to support the HTTP2 header frame.\n",
    "\n",
    "Note that this demo didn't require any training or fine-tuning with computer programming specific datasets. This is the innovative part of the zero-shot learning capability of the LLM. It can be applied to a wide variety of industries, including finance, healthcare, retail, manufacturing, construction, media, and more, for deep semantic search on the industry-focused business documents without spending time and cost for collecting industry specific datasets and training models."
   ]
  },
  {
   "cell_type": "markdown",
   "metadata": {
    "id": "-iOWOKnIvYxf"
   },
   "source": [
    "# Text Embeddings in Action\n",
    "\n",
    "Lets try using Text Embeddings in action with actual sample code."
   ]
  },
  {
   "cell_type": "markdown",
   "metadata": {
    "id": "AtXnXhF8U-8R"
   },
   "source": [
    "## Setup\n",
    "\n",
    "Before get started with the Vertex AI services, we need to setup the following.\n",
    "\n",
    "* Install Python SDK\n",
    "* Environment variables\n",
    "* Authentication (Colab only)\n",
    "* Enable APIs\n",
    "* Set IAM permissions"
   ]
  },
  {
   "cell_type": "markdown",
   "metadata": {
    "id": "UjnvWl6FLUlF"
   },
   "source": [
    "### Install Python SDK\n",
    "\n",
    "Vertex AI, Cloud Storage and BigQuery APIs can be accessed with multiple ways including REST API and Python SDK. In this tutorial we will use the SDK."
   ]
  },
  {
   "cell_type": "code",
   "execution_count": 1,
   "metadata": {
    "id": "FZgLGALt_al7",
    "tags": []
   },
   "outputs": [
    {
     "name": "stdout",
     "output_type": "stream",
     "text": [
      "Requirement already satisfied: google-cloud-aiplatform in /opt/conda/lib/python3.10/site-packages (1.79.0)\n",
      "Collecting google-cloud-aiplatform\n",
      "  Downloading google_cloud_aiplatform-1.82.0-py2.py3-none-any.whl.metadata (33 kB)\n",
      "Requirement already satisfied: google-cloud-storage in /opt/conda/lib/python3.10/site-packages (2.14.0)\n",
      "Collecting google-cloud-storage\n",
      "  Downloading google_cloud_storage-3.1.0-py2.py3-none-any.whl.metadata (12 kB)\n",
      "Requirement already satisfied: google-cloud-bigquery[pandas] in /opt/conda/lib/python3.10/site-packages (3.25.0)\n",
      "Collecting google-cloud-bigquery[pandas]\n",
      "  Downloading google_cloud_bigquery-3.30.0-py2.py3-none-any.whl.metadata (7.9 kB)\n",
      "Requirement already satisfied: google-api-core!=2.0.*,!=2.1.*,!=2.2.*,!=2.3.*,!=2.4.*,!=2.5.*,!=2.6.*,!=2.7.*,<3.0.0dev,>=1.34.1 in /opt/conda/lib/python3.10/site-packages (from google-api-core[grpc]!=2.0.*,!=2.1.*,!=2.2.*,!=2.3.*,!=2.4.*,!=2.5.*,!=2.6.*,!=2.7.*,<3.0.0dev,>=1.34.1->google-cloud-aiplatform) (1.34.1)\n",
      "Requirement already satisfied: google-auth<3.0.0dev,>=2.14.1 in /opt/conda/lib/python3.10/site-packages (from google-cloud-aiplatform) (2.38.0)\n",
      "Requirement already satisfied: proto-plus<2.0.0dev,>=1.22.3 in /opt/conda/lib/python3.10/site-packages (from google-cloud-aiplatform) (1.26.0)\n",
      "Requirement already satisfied: protobuf!=4.21.0,!=4.21.1,!=4.21.2,!=4.21.3,!=4.21.4,!=4.21.5,<6.0.0dev,>=3.20.2 in /opt/conda/lib/python3.10/site-packages (from google-cloud-aiplatform) (3.20.3)\n",
      "Requirement already satisfied: packaging>=14.3 in /opt/conda/lib/python3.10/site-packages (from google-cloud-aiplatform) (24.2)\n",
      "Collecting google-cloud-storage\n",
      "  Downloading google_cloud_storage-2.19.0-py2.py3-none-any.whl.metadata (9.1 kB)\n",
      "Requirement already satisfied: google-cloud-resource-manager<3.0.0dev,>=1.3.3 in /opt/conda/lib/python3.10/site-packages (from google-cloud-aiplatform) (1.14.0)\n",
      "Requirement already satisfied: shapely<3.0.0dev in /opt/conda/lib/python3.10/site-packages (from google-cloud-aiplatform) (2.0.7)\n",
      "Requirement already satisfied: pydantic<3 in /opt/conda/lib/python3.10/site-packages (from google-cloud-aiplatform) (2.10.6)\n",
      "Requirement already satisfied: typing-extensions in /opt/conda/lib/python3.10/site-packages (from google-cloud-aiplatform) (4.12.2)\n",
      "Requirement already satisfied: docstring-parser<1 in /opt/conda/lib/python3.10/site-packages (from google-cloud-aiplatform) (0.16)\n",
      "Collecting google-api-core!=2.0.*,!=2.1.*,!=2.2.*,!=2.3.*,!=2.4.*,!=2.5.*,!=2.6.*,!=2.7.*,<3.0.0dev,>=1.34.1 (from google-api-core[grpc]!=2.0.*,!=2.1.*,!=2.2.*,!=2.3.*,!=2.4.*,!=2.5.*,!=2.6.*,!=2.7.*,<3.0.0dev,>=1.34.1->google-cloud-aiplatform)\n",
      "  Downloading google_api_core-2.24.1-py3-none-any.whl.metadata (3.0 kB)\n",
      "Requirement already satisfied: google-cloud-core<3.0dev,>=2.3.0 in /opt/conda/lib/python3.10/site-packages (from google-cloud-storage) (2.4.1)\n",
      "Requirement already satisfied: google-resumable-media>=2.7.2 in /opt/conda/lib/python3.10/site-packages (from google-cloud-storage) (2.7.2)\n",
      "Requirement already satisfied: requests<3.0.0dev,>=2.18.0 in /opt/conda/lib/python3.10/site-packages (from google-cloud-storage) (2.32.3)\n",
      "Requirement already satisfied: google-crc32c<2.0dev,>=1.0 in /opt/conda/lib/python3.10/site-packages (from google-cloud-storage) (1.6.0)\n",
      "Requirement already satisfied: python-dateutil<3.0dev,>=2.7.3 in /opt/conda/lib/python3.10/site-packages (from google-cloud-bigquery[pandas]) (2.9.0.post0)\n",
      "Requirement already satisfied: pandas>=1.1.0 in /opt/conda/lib/python3.10/site-packages (from google-cloud-bigquery[pandas]) (2.2.3)\n",
      "Requirement already satisfied: grpcio<2.0dev,>=1.47.0 in /opt/conda/lib/python3.10/site-packages (from google-cloud-bigquery[pandas]) (1.70.0)\n",
      "Requirement already satisfied: pyarrow>=3.0.0 in /opt/conda/lib/python3.10/site-packages (from google-cloud-bigquery[pandas]) (15.0.2)\n",
      "Requirement already satisfied: db-dtypes<2.0.0dev,>=0.3.0 in /opt/conda/lib/python3.10/site-packages (from google-cloud-bigquery[pandas]) (1.4.1)\n",
      "Collecting pandas-gbq>=0.26.1 (from google-cloud-bigquery[pandas])\n",
      "  Downloading pandas_gbq-0.28.0-py2.py3-none-any.whl.metadata (3.3 kB)\n",
      "Requirement already satisfied: numpy>=1.16.6 in /opt/conda/lib/python3.10/site-packages (from db-dtypes<2.0.0dev,>=0.3.0->google-cloud-bigquery[pandas]) (1.26.4)\n",
      "Requirement already satisfied: googleapis-common-protos<2.0.dev0,>=1.56.2 in /opt/conda/lib/python3.10/site-packages (from google-api-core!=2.0.*,!=2.1.*,!=2.2.*,!=2.3.*,!=2.4.*,!=2.5.*,!=2.6.*,!=2.7.*,<3.0.0dev,>=1.34.1->google-api-core[grpc]!=2.0.*,!=2.1.*,!=2.2.*,!=2.3.*,!=2.4.*,!=2.5.*,!=2.6.*,!=2.7.*,<3.0.0dev,>=1.34.1->google-cloud-aiplatform) (1.66.0)\n",
      "Requirement already satisfied: grpcio-status<2.0.dev0,>=1.33.2 in /opt/conda/lib/python3.10/site-packages (from google-api-core[grpc]!=2.0.*,!=2.1.*,!=2.2.*,!=2.3.*,!=2.4.*,!=2.5.*,!=2.6.*,!=2.7.*,<3.0.0dev,>=1.34.1->google-cloud-aiplatform) (1.49.0rc1)\n",
      "Requirement already satisfied: cachetools<6.0,>=2.0.0 in /opt/conda/lib/python3.10/site-packages (from google-auth<3.0.0dev,>=2.14.1->google-cloud-aiplatform) (5.5.1)\n",
      "Requirement already satisfied: pyasn1-modules>=0.2.1 in /opt/conda/lib/python3.10/site-packages (from google-auth<3.0.0dev,>=2.14.1->google-cloud-aiplatform) (0.4.1)\n",
      "Requirement already satisfied: rsa<5,>=3.1.4 in /opt/conda/lib/python3.10/site-packages (from google-auth<3.0.0dev,>=2.14.1->google-cloud-aiplatform) (4.9)\n",
      "Requirement already satisfied: grpc-google-iam-v1<1.0.0dev,>=0.12.4 in /opt/conda/lib/python3.10/site-packages (from google-cloud-resource-manager<3.0.0dev,>=1.3.3->google-cloud-aiplatform) (0.14.0)\n",
      "Requirement already satisfied: pytz>=2020.1 in /opt/conda/lib/python3.10/site-packages (from pandas>=1.1.0->google-cloud-bigquery[pandas]) (2025.1)\n",
      "Requirement already satisfied: tzdata>=2022.7 in /opt/conda/lib/python3.10/site-packages (from pandas>=1.1.0->google-cloud-bigquery[pandas]) (2025.1)\n",
      "Requirement already satisfied: setuptools in /opt/conda/lib/python3.10/site-packages (from pandas-gbq>=0.26.1->google-cloud-bigquery[pandas]) (75.8.0)\n",
      "Requirement already satisfied: pydata-google-auth>=1.5.0 in /opt/conda/lib/python3.10/site-packages (from pandas-gbq>=0.26.1->google-cloud-bigquery[pandas]) (1.9.1)\n",
      "Requirement already satisfied: google-auth-oauthlib>=0.7.0 in /opt/conda/lib/python3.10/site-packages (from pandas-gbq>=0.26.1->google-cloud-bigquery[pandas]) (1.2.1)\n",
      "Requirement already satisfied: annotated-types>=0.6.0 in /opt/conda/lib/python3.10/site-packages (from pydantic<3->google-cloud-aiplatform) (0.7.0)\n",
      "Requirement already satisfied: pydantic-core==2.27.2 in /opt/conda/lib/python3.10/site-packages (from pydantic<3->google-cloud-aiplatform) (2.27.2)\n",
      "Requirement already satisfied: six>=1.5 in /opt/conda/lib/python3.10/site-packages (from python-dateutil<3.0dev,>=2.7.3->google-cloud-bigquery[pandas]) (1.17.0)\n",
      "Requirement already satisfied: charset_normalizer<4,>=2 in /opt/conda/lib/python3.10/site-packages (from requests<3.0.0dev,>=2.18.0->google-cloud-storage) (3.4.1)\n",
      "Requirement already satisfied: idna<4,>=2.5 in /opt/conda/lib/python3.10/site-packages (from requests<3.0.0dev,>=2.18.0->google-cloud-storage) (3.10)\n",
      "Requirement already satisfied: urllib3<3,>=1.21.1 in /opt/conda/lib/python3.10/site-packages (from requests<3.0.0dev,>=2.18.0->google-cloud-storage) (1.26.20)\n",
      "Requirement already satisfied: certifi>=2017.4.17 in /opt/conda/lib/python3.10/site-packages (from requests<3.0.0dev,>=2.18.0->google-cloud-storage) (2024.12.14)\n",
      "Requirement already satisfied: requests-oauthlib>=0.7.0 in /opt/conda/lib/python3.10/site-packages (from google-auth-oauthlib>=0.7.0->pandas-gbq>=0.26.1->google-cloud-bigquery[pandas]) (2.0.0)\n",
      "Requirement already satisfied: pyasn1<0.7.0,>=0.4.6 in /opt/conda/lib/python3.10/site-packages (from pyasn1-modules>=0.2.1->google-auth<3.0.0dev,>=2.14.1->google-cloud-aiplatform) (0.6.1)\n",
      "Requirement already satisfied: oauthlib>=3.0.0 in /opt/conda/lib/python3.10/site-packages (from requests-oauthlib>=0.7.0->google-auth-oauthlib>=0.7.0->pandas-gbq>=0.26.1->google-cloud-bigquery[pandas]) (3.2.2)\n",
      "Downloading google_cloud_aiplatform-1.82.0-py2.py3-none-any.whl (7.3 MB)\n",
      "\u001b[2K   \u001b[90m━━━━━━━━━━━━━━━━━━━━━━━━━━━━━━━━━━━━━━━━\u001b[0m \u001b[32m7.3/7.3 MB\u001b[0m \u001b[31m43.3 MB/s\u001b[0m eta \u001b[36m0:00:00\u001b[0m\n",
      "\u001b[?25hDownloading google_cloud_storage-2.19.0-py2.py3-none-any.whl (131 kB)\n",
      "Downloading google_api_core-2.24.1-py3-none-any.whl (160 kB)\n",
      "Downloading google_cloud_bigquery-3.30.0-py2.py3-none-any.whl (247 kB)\n",
      "Downloading pandas_gbq-0.28.0-py2.py3-none-any.whl (37 kB)\n",
      "Installing collected packages: google-api-core, google-cloud-storage, google-cloud-bigquery, pandas-gbq, google-cloud-aiplatform\n",
      "\u001b[33m  WARNING: The script tb-gcp-uploader is installed in '/home/jupyter/.local/bin' which is not on PATH.\n",
      "  Consider adding this directory to PATH or, if you prefer to suppress this warning, use --no-warn-script-location.\u001b[0m\u001b[33m\n",
      "\u001b[0m\u001b[31mERROR: pip's dependency resolver does not currently take into account all the packages that are installed. This behaviour is the source of the following dependency conflicts.\n",
      "google-api-python-client 1.8.0 requires google-api-core<2dev,>=1.13.0, but you have google-api-core 2.24.1 which is incompatible.\u001b[0m\u001b[31m\n",
      "\u001b[0mSuccessfully installed google-api-core-2.24.1 google-cloud-aiplatform-1.82.0 google-cloud-bigquery-3.30.0 google-cloud-storage-2.19.0 pandas-gbq-0.28.0\n",
      "\n",
      "\u001b[1m[\u001b[0m\u001b[34;49mnotice\u001b[0m\u001b[1;39;49m]\u001b[0m\u001b[39;49m A new release of pip is available: \u001b[0m\u001b[31;49m25.0\u001b[0m\u001b[39;49m -> \u001b[0m\u001b[32;49m25.0.1\u001b[0m\n",
      "\u001b[1m[\u001b[0m\u001b[34;49mnotice\u001b[0m\u001b[1;39;49m]\u001b[0m\u001b[39;49m To update, run: \u001b[0m\u001b[32;49mpip install --upgrade pip\u001b[0m\n",
      "Note: you may need to restart the kernel to use updated packages.\n"
     ]
    }
   ],
   "source": [
    "%pip install --upgrade --user google-cloud-aiplatform google-cloud-storage 'google-cloud-bigquery[pandas]'"
   ]
  },
  {
   "cell_type": "markdown",
   "metadata": {
    "id": "R5Xep4W9lq-Z"
   },
   "source": [
    "### Restart current runtime\n",
    "\n",
    "To use the newly installed packages in this Jupyter runtime, you must restart the runtime. You can do this by running the cell below, which will restart the current kernel."
   ]
  },
  {
   "cell_type": "code",
   "execution_count": 2,
   "metadata": {
    "id": "XRvKdaPDTznN",
    "tags": []
   },
   "outputs": [
    {
     "data": {
      "text/plain": [
       "{'status': 'ok', 'restart': True}"
      ]
     },
     "execution_count": 2,
     "metadata": {},
     "output_type": "execute_result"
    }
   ],
   "source": [
    "# Restart kernel after installs so that your environment can access the new packages\n",
    "import IPython\n",
    "\n",
    "app = IPython.Application.instance()\n",
    "app.kernel.do_shutdown(True)"
   ]
  },
  {
   "cell_type": "markdown",
   "metadata": {
    "id": "SbmM4z7FOBpM"
   },
   "source": [
    "<div class=\"alert alert-block alert-warning\">\n",
    "<b>⚠️ The kernel is going to restart. Please wait until it is finished before continuing to the next step. ⚠️</b>\n",
    "</div>\n"
   ]
  },
  {
   "cell_type": "markdown",
   "metadata": {
    "id": "nCoTvkOJoh76"
   },
   "source": [
    "### Environment variables\n",
    "\n",
    "Sets environment variables. If asked, please replace the following `[your-project-id]` with your project ID and run it."
   ]
  },
  {
   "cell_type": "code",
   "execution_count": 1,
   "metadata": {
    "id": "fkmvFRrj3nQI",
    "tags": []
   },
   "outputs": [],
   "source": [
    "# get project ID\n",
    "PROJECT_ID = ! gcloud config get project\n",
    "PROJECT_ID = PROJECT_ID[0]\n",
    "LOCATION = \"us-west1\"\n",
    "if PROJECT_ID == \"(unset)\":\n",
    "    print(f\"Please set the project ID manually below\")"
   ]
  },
  {
   "cell_type": "code",
   "execution_count": 4,
   "metadata": {
    "id": "69XJ95rNoYG9",
    "tags": []
   },
   "outputs": [],
   "source": [
    "# define project information\n",
    "#if PROJECT_ID == \"(unset)\":\n",
    "#    PROJECT_ID = \"[your-project-id]\"  # @param {type:\"string\"}\n",
    "PROJECT_ID = \"qwiklabs-gcp-00-a999ccc82f08\"\n",
    "# generate an unique id for this session\n",
    "from datetime import datetime\n",
    "\n",
    "UID = datetime.now().strftime(\"%m%d%H%M\")"
   ]
  },
  {
   "cell_type": "markdown",
   "metadata": {
    "id": "ph7mDSMRVTIZ"
   },
   "source": [
    "### Authentication (Colab only)\n",
    "\n",
    "If you are running this notebook on Colab, you will need to run the following cell authentication. This step is not required if you are using Vertex AI Workbench as it is pre-authenticated."
   ]
  },
  {
   "cell_type": "code",
   "execution_count": null,
   "metadata": {
    "id": "5jQkFtlimNXR"
   },
   "outputs": [],
   "source": [
    "import sys\n",
    "\n",
    "# if it's Colab runtime, authenticate the user with Google Cloud\n",
    "if \"google.colab\" in sys.modules:\n",
    "    from google.colab import auth\n",
    "\n",
    "    auth.authenticate_user()"
   ]
  },
  {
   "cell_type": "markdown",
   "metadata": {
    "id": "jUPbl4IFLmC2"
   },
   "source": [
    "### Enable APIs\n",
    "\n",
    "Run the following to enable APIs for Compute Engine, Vertex AI, Cloud Storage and BigQuery with this Google Cloud project."
   ]
  },
  {
   "cell_type": "code",
   "execution_count": 5,
   "metadata": {
    "id": "qGf0qMMQNond",
    "tags": []
   },
   "outputs": [
    {
     "name": "stdout",
     "output_type": "stream",
     "text": [
      "Operation \"operations/acat.p2-486565210005-4b72a83f-f321-425b-8d07-cd3e0b41350b\" finished successfully.\n"
     ]
    }
   ],
   "source": [
    "! gcloud services enable compute.googleapis.com aiplatform.googleapis.com storage.googleapis.com bigquery.googleapis.com --project {PROJECT_ID}"
   ]
  },
  {
   "cell_type": "markdown",
   "metadata": {
    "id": "8cF8rkN3Lnhq",
    "tags": []
   },
   "source": [
    "### Set IAM permissions\n",
    "\n",
    "Also, we need to add access permissions to the default service account for using those services.\n",
    "\n",
    "- Go to [the IAM page](https://console.cloud.google.com/iam-admin/) in the Console\n",
    "- Look for the principal for default compute service account. It should look like: `<project-number>-compute@developer.gserviceaccount.com`\n",
    "- Click the edit button at right and click `ADD ANOTHER ROLE` to add `Vertex AI User`, `BigQuery User` and `Storage Admin` to the account.\n",
    "\n",
    "This will look like this:\n",
    "\n",
    "![](https://storage.googleapis.com/github-repo/img/embeddings/vs-quickstart/iam-setting.png)"
   ]
  },
  {
   "cell_type": "markdown",
   "metadata": {
    "id": "mahCxLXHMIls"
   },
   "source": [
    "## Getting Started with Vertex AI Embeddings for Text\n",
    "\n",
    "Now it's ready to get started with embeddings!"
   ]
  },
  {
   "cell_type": "markdown",
   "metadata": {
    "id": "rq07_-o0VoZD"
   },
   "source": [
    "### Data Preparation\n",
    "\n",
    "We will be using [the Stack Overflow public dataset](https://console.cloud.google.com/marketplace/product/stack-exchange/stack-overflow) hosted on BigQuery table `bigquery-public-data.stackoverflow.posts_questions`. This is a very big dataset with 23 million rows that doesn't fit into the memory. We are going to limit it to 1000 rows for this tutorial."
   ]
  },
  {
   "cell_type": "code",
   "execution_count": 6,
   "metadata": {
    "id": "snrzPsEQDH4S",
    "tags": []
   },
   "outputs": [
    {
     "data": {
      "text/html": [
       "<div>\n",
       "<style scoped>\n",
       "    .dataframe tbody tr th:only-of-type {\n",
       "        vertical-align: middle;\n",
       "    }\n",
       "\n",
       "    .dataframe tbody tr th {\n",
       "        vertical-align: top;\n",
       "    }\n",
       "\n",
       "    .dataframe thead th {\n",
       "        text-align: right;\n",
       "    }\n",
       "</style>\n",
       "<table border=\"1\" class=\"dataframe\">\n",
       "  <thead>\n",
       "    <tr style=\"text-align: right;\">\n",
       "      <th></th>\n",
       "      <th>id</th>\n",
       "      <th>title</th>\n",
       "    </tr>\n",
       "  </thead>\n",
       "  <tbody>\n",
       "    <tr>\n",
       "      <th>0</th>\n",
       "      <td>73814413</td>\n",
       "      <td>How is expiration of the token/cookie determined?</td>\n",
       "    </tr>\n",
       "    <tr>\n",
       "      <th>1</th>\n",
       "      <td>73573670</td>\n",
       "      <td>EAS build delayed by Fastlane search for devices</td>\n",
       "    </tr>\n",
       "    <tr>\n",
       "      <th>2</th>\n",
       "      <td>73583172</td>\n",
       "      <td>Can I `tag` a service in Consul after its `reg...</td>\n",
       "    </tr>\n",
       "    <tr>\n",
       "      <th>3</th>\n",
       "      <td>73704175</td>\n",
       "      <td>How do I increase the resolution of Matplotlib...</td>\n",
       "    </tr>\n",
       "    <tr>\n",
       "      <th>4</th>\n",
       "      <td>73837289</td>\n",
       "      <td>Nodejs app on Phusion Passenger(R) crashing ra...</td>\n",
       "    </tr>\n",
       "  </tbody>\n",
       "</table>\n",
       "</div>"
      ],
      "text/plain": [
       "         id                                              title\n",
       "0  73814413  How is expiration of the token/cookie determined?\n",
       "1  73573670   EAS build delayed by Fastlane search for devices\n",
       "2  73583172  Can I `tag` a service in Consul after its `reg...\n",
       "3  73704175  How do I increase the resolution of Matplotlib...\n",
       "4  73837289  Nodejs app on Phusion Passenger(R) crashing ra..."
      ]
     },
     "execution_count": 6,
     "metadata": {},
     "output_type": "execute_result"
    }
   ],
   "source": [
    "# load the BQ Table into a Pandas DataFrame\n",
    "from google.cloud import bigquery\n",
    "\n",
    "QUESTIONS_SIZE = 1000\n",
    "\n",
    "bq_client = bigquery.Client(project=PROJECT_ID)\n",
    "QUERY_TEMPLATE = \"\"\"\n",
    "        SELECT distinct q.id, q.title\n",
    "        FROM (SELECT * FROM `bigquery-public-data.stackoverflow.posts_questions`\n",
    "        where Score > 0 ORDER BY View_Count desc) AS q\n",
    "        LIMIT {limit} ;\n",
    "        \"\"\"\n",
    "query = QUERY_TEMPLATE.format(limit=QUESTIONS_SIZE)\n",
    "query_job = bq_client.query(query)\n",
    "rows = query_job.result()\n",
    "df = rows.to_dataframe()\n",
    "\n",
    "# examine the data\n",
    "df.head()"
   ]
  },
  {
   "cell_type": "markdown",
   "metadata": {
    "id": "j6022U1FWzpb"
   },
   "source": [
    "### Call the API to generate embeddings\n",
    "\n",
    "With the Stack Overflow dataset, we will use the `title` column (the question title) and generate embedding for it with Embeddings for Text API. The API is available under the [vertexai](https://cloud.google.com/python/docs/reference/aiplatform/latest/vertexai) package of the SDK.\n",
    "\n",
    "You may see some warning messages from the TensorFlow library but you can ignore them."
   ]
  },
  {
   "cell_type": "code",
   "execution_count": 7,
   "metadata": {
    "id": "pY8M4DqO8wGx",
    "tags": []
   },
   "outputs": [],
   "source": [
    "# init the vertexai package\n",
    "import vertexai\n",
    "\n",
    "vertexai.init(project=PROJECT_ID, location=LOCATION)"
   ]
  },
  {
   "cell_type": "markdown",
   "metadata": {
    "id": "jrG82n-y-EC5"
   },
   "source": [
    "From the package, import [TextEmbeddingModel](https://cloud.google.com/python/docs/reference/aiplatform/latest/vertexai.language_models.TextEmbeddingModel) and get a model."
   ]
  },
  {
   "cell_type": "code",
   "execution_count": 8,
   "metadata": {
    "id": "YVLHjSeOGoTu",
    "tags": []
   },
   "outputs": [],
   "source": [
    "# Load the text embeddings model\n",
    "from vertexai.language_models import TextEmbeddingModel\n",
    "\n",
    "model = TextEmbeddingModel.from_pretrained(\"text-embedding-004\")"
   ]
  },
  {
   "cell_type": "markdown",
   "metadata": {
    "id": "FqdVsgZDb_hc"
   },
   "source": [
    "In this tutorial we will use `text-embedding-004` model for getting text embeddings. Please take a look at [Supported models](https://cloud.google.com/vertex-ai/docs/generative-ai/embeddings/get-text-embeddings#supported_models) on the doc to see the list of supported models.\n",
    "\n",
    "Once you get the model, you can call its [get_embeddings](https://cloud.google.com/python/docs/reference/aiplatform/latest/vertexai.language_models.TextEmbeddingModel#vertexai_language_models_TextEmbeddingModel_get_embeddings) function to get embeddings. You can pass up to 5 texts at once in a call. But there is a caveat. By default, the text embeddings API has a \"request per minute\" quota set to 60 for new Cloud projects and 600 for projects with usage history (see [Quotas and limits](https://cloud.google.com/vertex-ai/docs/quotas#request_quotas) to check the latest quota value for `base_model:textembedding-gecko`). So, rather than using the function directly, you may want to define a wrapper like below to limit under 10 calls per second, and pass 5 texts each time."
   ]
  },
  {
   "cell_type": "code",
   "execution_count": 9,
   "metadata": {
    "id": "8HUb9u_P2VWW",
    "tags": []
   },
   "outputs": [],
   "source": [
    "import time\n",
    "\n",
    "import tqdm  # to show a progress bar\n",
    "\n",
    "# get embeddings for a list of texts\n",
    "BATCH_SIZE = 5\n",
    "\n",
    "\n",
    "def get_embeddings_wrapper(texts):\n",
    "    embs = []\n",
    "    for i in tqdm.tqdm(range(0, len(texts), BATCH_SIZE)):\n",
    "        time.sleep(1)  # to avoid the quota error\n",
    "        result = model.get_embeddings(texts[i : i + BATCH_SIZE])\n",
    "        embs = embs + [e.values for e in result]\n",
    "    return embs"
   ]
  },
  {
   "cell_type": "markdown",
   "metadata": {
    "id": "aK4eTSPfcEuh"
   },
   "source": [
    "The following code will get embedding for the question titles and add them as a new column `embedding` to the DataFrame. This will take a few minutes."
   ]
  },
  {
   "cell_type": "code",
   "execution_count": 10,
   "metadata": {
    "id": "FcqPvu4PluN1",
    "tags": []
   },
   "outputs": [
    {
     "name": "stderr",
     "output_type": "stream",
     "text": [
      "100%|██████████| 200/200 [03:46<00:00,  1.13s/it]\n"
     ]
    },
    {
     "data": {
      "text/html": [
       "<div>\n",
       "<style scoped>\n",
       "    .dataframe tbody tr th:only-of-type {\n",
       "        vertical-align: middle;\n",
       "    }\n",
       "\n",
       "    .dataframe tbody tr th {\n",
       "        vertical-align: top;\n",
       "    }\n",
       "\n",
       "    .dataframe thead th {\n",
       "        text-align: right;\n",
       "    }\n",
       "</style>\n",
       "<table border=\"1\" class=\"dataframe\">\n",
       "  <thead>\n",
       "    <tr style=\"text-align: right;\">\n",
       "      <th></th>\n",
       "      <th>id</th>\n",
       "      <th>title</th>\n",
       "      <th>embedding</th>\n",
       "    </tr>\n",
       "  </thead>\n",
       "  <tbody>\n",
       "    <tr>\n",
       "      <th>0</th>\n",
       "      <td>73814413</td>\n",
       "      <td>How is expiration of the token/cookie determined?</td>\n",
       "      <td>[0.053177379071712494, 0.028871383517980576, -...</td>\n",
       "    </tr>\n",
       "    <tr>\n",
       "      <th>1</th>\n",
       "      <td>73573670</td>\n",
       "      <td>EAS build delayed by Fastlane search for devices</td>\n",
       "      <td>[8.73438038979657e-05, -0.07442783564329147, -...</td>\n",
       "    </tr>\n",
       "    <tr>\n",
       "      <th>2</th>\n",
       "      <td>73583172</td>\n",
       "      <td>Can I `tag` a service in Consul after its `reg...</td>\n",
       "      <td>[0.005916744004935026, 0.03050188720226288, -0...</td>\n",
       "    </tr>\n",
       "    <tr>\n",
       "      <th>3</th>\n",
       "      <td>73704175</td>\n",
       "      <td>How do I increase the resolution of Matplotlib...</td>\n",
       "      <td>[0.01823875680565834, -0.03911779820919037, -0...</td>\n",
       "    </tr>\n",
       "    <tr>\n",
       "      <th>4</th>\n",
       "      <td>73837289</td>\n",
       "      <td>Nodejs app on Phusion Passenger(R) crashing ra...</td>\n",
       "      <td>[0.11077287793159485, -0.024374444037675858, -...</td>\n",
       "    </tr>\n",
       "  </tbody>\n",
       "</table>\n",
       "</div>"
      ],
      "text/plain": [
       "         id                                              title  \\\n",
       "0  73814413  How is expiration of the token/cookie determined?   \n",
       "1  73573670   EAS build delayed by Fastlane search for devices   \n",
       "2  73583172  Can I `tag` a service in Consul after its `reg...   \n",
       "3  73704175  How do I increase the resolution of Matplotlib...   \n",
       "4  73837289  Nodejs app on Phusion Passenger(R) crashing ra...   \n",
       "\n",
       "                                           embedding  \n",
       "0  [0.053177379071712494, 0.028871383517980576, -...  \n",
       "1  [8.73438038979657e-05, -0.07442783564329147, -...  \n",
       "2  [0.005916744004935026, 0.03050188720226288, -0...  \n",
       "3  [0.01823875680565834, -0.03911779820919037, -0...  \n",
       "4  [0.11077287793159485, -0.024374444037675858, -...  "
      ]
     },
     "execution_count": 10,
     "metadata": {},
     "output_type": "execute_result"
    }
   ],
   "source": [
    "# get embeddings for the question titles and add them as \"embedding\" column\n",
    "df = df.assign(embedding=get_embeddings_wrapper(list(df.title)))\n",
    "df.head()"
   ]
  },
  {
   "cell_type": "markdown",
   "metadata": {
    "id": "nB53SiJjVN6e"
   },
   "source": [
    "## Look at the embedding similarities\n",
    "\n",
    "Let's see how these embeddings are organized in the embedding space with their meanings by quickly calculating the similarities between them and sorting them.\n",
    "\n",
    "As embeddings are vectors, you can calculate similarity between two embeddings by using one of the popular metrics like the followings:\n",
    "\n",
    "![](https://storage.googleapis.com/github-repo/img/embeddings/textemb-vs-notebook/8.png)\n",
    "\n",
    "Which metric should we use? Usually it depends on how each model is trained. In case of the model `text-embedding-004`, we need to use inner product (dot product).\n",
    "\n",
    "In the following code, it picks up one question randomly and uses the numpy `np.dot` function to calculate the similarities between the question and other questions."
   ]
  },
  {
   "cell_type": "code",
   "execution_count": 11,
   "metadata": {
    "id": "lKs6jSu7NiM6",
    "tags": []
   },
   "outputs": [
    {
     "data": {
      "text/plain": [
       "array([0.28797291, 0.21814118, 0.25390881, 0.28012625, 0.30952219])"
      ]
     },
     "execution_count": 11,
     "metadata": {},
     "output_type": "execute_result"
    }
   ],
   "source": [
    "import random\n",
    "\n",
    "import numpy as np\n",
    "\n",
    "# pick one of them as a key question\n",
    "key = random.randint(0, len(df))\n",
    "\n",
    "# calc dot product between the key and other questions\n",
    "embs = np.array(df.embedding.to_list())\n",
    "similarities = np.dot(embs[key], embs.T)\n",
    "\n",
    "# print similarities for the first 5 questions\n",
    "similarities[:5]"
   ]
  },
  {
   "cell_type": "markdown",
   "metadata": {
    "id": "srM04lJBQp4w"
   },
   "source": [
    "Finally, sort the questions with the similarities and print the list."
   ]
  },
  {
   "cell_type": "code",
   "execution_count": 12,
   "metadata": {
    "id": "lTUVvj9FQlab",
    "tags": []
   },
   "outputs": [
    {
     "name": "stdout",
     "output_type": "stream",
     "text": [
      "Key question: .net 6 Core MVC Paging for a navigation property\n",
      "\n",
      "1.0000 .net 6 Core MVC Paging for a navigation property\n",
      "0.6005 EF Core make group join list to object\n",
      "0.5724 Autoincrement not working in EF Core for custom type primary key\n",
      "0.5687 MongoDB Pagination and Sorting With JOIN\n",
      "0.5554 Error in Upload large file in asp.net core 6 (HTTP Error 413.1 - Request Entity Too Large)\n",
      "0.5359 Deserializing Json array of array in c#\n",
      "0.5318 How split UI code from razor page to class with blazor server\n",
      "0.5285 How N level object convert to N level Dictionary<string,object> this object can be Enumerable<Dictionary<string,object>> or object (without Json.Net)\n",
      "0.5170 Razor MVC -How to creat an object from a form within view?\n",
      "0.5104 How to call stored procedure in API using EF/SQL Server and check RetVal before processing ResultSet?\n",
      "0.5069 How remove Blazor top-row clickable area before user profile name\n",
      "0.5064 Passing IEnumerable as parameter\n",
      "0.4928 How do I pass data from a variable in a view to a view model class\n",
      "0.4867 SendMouseWheelEvent does not work on subsequent page loads\n",
      "0.4863 Deploying Microservice in Kubernetes with swagger .net core using ingress controller\n",
      "0.4844 Blazor WASM - Mediator Handle on different thread?\n",
      "0.4844 Layout route can't access segments values when used with nested routes with dynamic segments (React Router v6)\n",
      "0.4832 How to handle nested field with arguments in Spring for GraphQL @Controller\n",
      "0.4712 OnSizeAllocated not being hit for .NET MAUI (iOS) apps on screen rotation\n",
      "0.4709 How can I access values in another class inherited from public class C#?\n"
     ]
    }
   ],
   "source": [
    "# print the question\n",
    "print(f\"Key question: {df.title[key]}\\n\")\n",
    "\n",
    "# sort and print the questions by similarities\n",
    "sorted_questions = sorted(\n",
    "    zip(df.title, similarities), key=lambda x: x[1], reverse=True\n",
    ")[:20]\n",
    "for i, (question, similarity) in enumerate(sorted_questions):\n",
    "    print(f\"{similarity:.4f} {question}\")"
   ]
  },
  {
   "cell_type": "markdown",
   "metadata": {
    "id": "S75SQzAg1wHV"
   },
   "source": [
    "# Find embeddings fast with Vertex AI Vector Search\n",
    "\n",
    "As we have explained above, you can find similar embeddings by calculating the distance or similarity between the embeddings.\n",
    "\n",
    "But this isn't easy when you have millions or billions of embeddings. For example, if you have 1 million embeddings with 768 dimensions, you need to repeat the distance calculations for 1 million x 768 times. This would take some seconds - too slow."
   ]
  },
  {
   "cell_type": "markdown",
   "metadata": {
    "id": "0sjhTy-a47YH"
   },
   "source": [
    "So the researchers have been studying a technique called [Approximate Nearest Neighbor (ANN)](https://en.wikipedia.org/wiki/Nearest_neighbor_search) for faster search. ANN uses \"vector quantization\" for separating the space into multiple spaces with a tree structure. This is similar to the index in relational databases for improving the query performance, enabling very fast and scalable search with billions of embeddings.\n",
    "\n",
    "With the rise of LLMs, the ANN is getting popular quite rapidly, known as the Vector Search technology.\n",
    "\n",
    "![](https://storage.googleapis.com/gweb-cloudblog-publish/images/7._ANN.1143068821171228.max-2200x2200.png)\n",
    "\n",
    "In 2020, Google Research published a new ANN algorithm called [ScaNN](https://ai.googleblog.com/2020/07/announcing-scann-efficient-vector.html). It is considered one of the best ANN algorithms in the industry, also the most important foundation for search and recommendation in major Google services such as Google Search, YouTube and many others.\n"
   ]
  },
  {
   "cell_type": "markdown",
   "metadata": {
    "id": "xVOL8BgM2isz"
   },
   "source": [
    "## What is Vertex AI Vector Search?\n",
    "\n",
    "Google Cloud developers can take the full advantage of Google's vector search technology with [Vertex AI Vector Search](https://cloud.google.com/vertex-ai/docs/vector-search/overview) (previously called Matching Engine). With this fully managed service, developers can just add the embeddings to its index and issue a search query with a key embedding for the blazingly fast vector search. In the case of the Stack Overflow demo, Vector Search can find relevant questions from 8 million embeddings in tens of milliseconds.\n",
    "\n",
    "![](https://storage.googleapis.com/github-repo/img/embeddings/textemb-vs-notebook/9.png)\n",
    "\n",
    "With Vector Search, you don't need to spend much time and money building your own vector search service from scratch or using open source tools if your goal is high scalability, availability and maintainability for production systems."
   ]
  },
  {
   "cell_type": "markdown",
   "metadata": {
    "id": "uBt8tjidSzyU"
   },
   "source": [
    "## Get Started with Vector Search\n",
    "\n",
    "When you already have the embeddings, then getting started with Vector Search is pretty easy. In this section, we will follow the steps below.\n",
    "\n",
    "### Setting up Vector Search\n",
    "- Save the embeddings in JSON files on Cloud Storage\n",
    "- Build an Index\n",
    "- Create an Index Endpoint\n",
    "- Deploy the Index to the endpoint\n",
    "\n",
    "### Use Vector Search\n",
    "\n",
    "- Query with the endpoint\n",
    "\n",
    "### **Tip for Colab users**\n",
    "\n",
    "If you use Colab for this tutorial, you may lose your runtime while you are waiting for the Index building and deployment in the later sections as it takes tens of minutes. In that case, run the following sections again with the new instance to recover the runtime: [Install Python SDK, Environment variables and Authentication](https://colab.research.google.com/drive/1xJhLFEyPqW0qvKiERD6aYgeTHa6_U50N?resourcekey=0-2qUkxckCjt6W03AsqvZHhw#scrollTo=AtXnXhF8U-8R&line=9&uniqifier=1).\n",
    "\n",
    "Then, use the [Utilities](https://colab.research.google.com/drive/1xJhLFEyPqW0qvKiERD6aYgeTHa6_U50N?resourcekey=0-2qUkxckCjt6W03AsqvZHhw#scrollTo=BE1tELsH-u8N&line=1&uniqifier=1) to recover the Index and Index Endpoint and continue with the rest."
   ]
  },
  {
   "cell_type": "markdown",
   "metadata": {
    "id": "6pu1a3zjfQ0D"
   },
   "source": [
    "### Save the embeddings in a JSON file\n",
    "To load the embeddings to Vector Search, we need to save them in JSON files with JSONL format. See more information in the docs at [Input data format and structure](https://cloud.google.com/vertex-ai/docs/matching-engine/match-eng-setup/format-structure#data-file-formats).\n",
    "\n",
    "First, export the `id` and `embedding` columns from the DataFrame in JSONL format, and save it."
   ]
  },
  {
   "cell_type": "code",
   "execution_count": 13,
   "metadata": {
    "id": "GzZ30d4j_uLU",
    "tags": []
   },
   "outputs": [
    {
     "name": "stdout",
     "output_type": "stream",
     "text": [
      "{\"id\":73814413,\"embedding\":[0.0531773791,0.0288713835,-0.0216121022,0.0092759058,0.0304965563,0.0067522512,-0.0084786033,-0.0768756047,-0.0524439774,0.0463751256,-0.0381478965,0.0539976135,-0.0525301807,-0.0247113258,-0.0380059853,-0.0085029965,-0.0183574762,-0.0391608849,-0.0456177033,-0.0279055666,-0.0095542977,-0.0375184417,-0.0410512201,-0.0100730434,0.0347654149,-0.0625992194,0.0379755087,-0.0159863587,0.0479751565,-0.0393278524,-0.0004908892,0.0321953148,0.0008443468,-0.0449069366,0.0558496155,0.0208877418,0.0185710359,0.0577562675,0.0171154663,-0.0558687486,-0.0879636481,-0.0214800406,-0.0327814743,0.0252994969,-0.0094402824,0.0460469164,-0.0024047375,0.0284472387,0.0049678599,0.0243186913,0.0994701385,0.0055190716,0.0040840339,0.0350133516,-0.0005016283,-0.0583550856,0.0393043123,-0.0167273767,0.0221689176,-0.0199372061,0.0346941985,-0.0219984073,-0.0144252935,-0.0628290698,-0.0099995695,0.0078720003,-0.0153287752,0.0071812789,-0.0728122443,0.0248729941,0.0011775532,0.0667869821,-0.0239235535,-0.0571796112,-0.012503935,0.0087869614,0.0492309034,0.0347304493,0.0207370371,0.0262267049,0.007029756,0.0626785234,0.0426958464,-0.0213400219,-0.0289161932,-0.028360704,0.0301368516,-0.0605975278,-0.0308590475,0.0219956711,0.0950249732,0.0059265848,-0.0044077253,0.0131154088,0.0126826353,-0.0446878597,-0.0078737745,-0.031214878,0.0296616424,0.0361167528,-0.0577170923,0.0118070124,0.0013251201,-0.0494851507,-0.0573192462,0.0486559048,-0.0184204094,-0.066086188,-0.0692402199,-0.0326567814,0.0472787954,-0.0033223045,0.0593186393,0.0480872691,0.0527205057,0.0144775836,-0.0027326066,0.0719486475,0.0323538706,0.0629545674,0.0206976775,-0.0055047893,0.0039600665,0.0453684181,0.0626232699,0.0379951298,-0.0737456828,-0.010302892,-0.0237697251,0.0009574258,0.0131218629,-0.0228525158,0.0209706351,0.0465986617,0.0245554578,0.0445790663,-0.024522908,-0.0234859511,-0.054435201,-0.000505902,-0.0201019235,-0.0123281451,-0.131722793,0.0167879164,-0.0109129902,-0.0078334231,0.0827825814,0.0863455161,0.0026258712,0.0127123743,-0.0176276769,0.0568028763,0.0426591635,-0.0302033201,-0.015442404,-0.0287627578,0.0198488683,0.0053950823,-0.0330524035,-0.0124678332,-0.0168422088,-0.0552631468,-0.0101016825,0.0621627122,-0.0261387061,-0.0195191298,-0.0402656421,0.0297450516,-0.0023291882,-0.0086538261,0.0117774978,-0.0102503793,-0.0233064145,-0.0311253443,-0.0092773372,0.0260897111,-0.012562748,-0.0218777787,-0.0082445154,-0.0139494976,0.0362531394,-0.0502089001,-0.0065253447,-0.0422629528,0.0205034614,-0.0242794324,0.009056394,-0.030674655,0.018133454,0.0140045304,0.001226309,-0.0075976211,-0.0231846441,0.059725184,-0.0242693871,-0.0383921526,0.0157690104,-0.0130996211,0.0219328552,0.0172224492,0.0372522436,0.0010308799,-0.0200777017,-0.0137653248,-0.0060739126,-0.0077096992,-0.0091424007,0.015455435,0.0217795521,0.0262455679,0.0172473043,-0.0277745668,-0.0095592896,-0.0243228152,0.006159151,-0.0113962507,0.032747712,0.0067374385,0.031474147,0.0338007361,0.0382715873,0.012385088,0.0137935467,0.0366541073,0.0107299797,0.061011333,-0.0264753681,-0.0441579968,0.020136999,-0.0578208044,0.0424216203,-0.0154654281,-0.0396671109,0.0255344696,-0.0280606393,0.0064915447,0.0284691378,-0.0146139152,-0.0106810415,-0.0192767084,0.0150930267,0.0321878344,0.033926893,-0.0184203051,-0.0478497557,0.0332610495,-0.0227896515,0.0161435958,-0.0298530813,-0.1348132342,0.0048205177,0.043526601,-0.0615013316,-0.0244848561,-0.0611093752,-0.0622225069,-0.0032162985,-0.0183075052,-0.0592351444,0.0899610817,0.0617274307,0.0190110058,-0.0036581734,-0.0327701643,-0.0372871161,0.0148177724,-0.0330558084,-0.0401607379,-0.0152370557,0.0132523635,0.0158701278,-0.0169699658,-0.0598521978,0.026619615,0.0016137741,-0.0271744151,-0.0243742317,-0.0004597653,-0.017604135,-0.0371330082,-0.0493083149,0.0522666313,0.0350343063,0.0648067147,-0.0111711118,-0.0453725792,0.030439008,0.0332883559,0.0204218999,-0.0527778342,0.0399206094,0.0110819219,0.0238601062,-0.0250575952,0.0425418615,0.0318839625,0.021904679,0.0205383375,0.0068085166,-0.0525120758,0.0220937859,0.0488041416,0.0009532709,0.0395767242,0.058882691,0.0306709278,0.017147636,-0.0208646841,0.0249151438,-0.0589437075,-0.0375182964,0.0275392961,0.0375335775,-0.0612261668,-0.036415793,0.0153862759,-0.1323624551,0.0387859866,-0.0234241858,0.0147328079,0.0602288023,0.0008519398,-0.0126661649,-0.0203738287,-0.0014092979,0.0211796928,0.0045954539,-0.0365560688,0.0363297798,0.0016374438,0.0446558148,0.0687355697,0.0189980865,-0.0084175477,-0.0403861366,0.0066428217,-0.0155031178,-0.0059829419,0.0037746083,-0.0042778328,0.0012921134,0.0132566281,0.0199467447,0.0374007337,-0.0436183885,0.0140230618,-0.0453253277,0.002444308,-0.027576033,0.0303215701,0.0105570266,0.0423140079,-0.033606559,-0.0284862779,0.0255465172,0.0468031131,0.0062939059,-0.0371846743,-0.0106630409,-0.0373379178,0.0548736379,0.0205383953,-0.0077744159,0.0251110308,0.0035226019,0.0106296698,0.040276695,0.0594780706,-0.0041972459,0.001919419,0.0133802099,-0.0371514633,-0.0083895717,-0.0211254209,0.0282827243,-0.0298457723,-0.0388861001,0.0389753766,-0.0232511982,-0.0165777002,-0.0573216118,-0.0398921035,-0.021691367,-0.0212591942,0.0222665798,0.0301681086,-0.0060684076,0.0183825884,0.0292913951,-0.0356213227,-0.0277689639,0.0551567338,0.0136972638,0.0633131564,-0.0705097169,-0.0214618035,-0.0369136631,-0.0568503961,-0.0089085372,0.015513856,0.000080649,-0.0405176766,-0.0054381657,-0.0934762955,-0.0407548323,0.0139585491,0.081772387,0.0061112596,0.0110707041,-0.0307030678,0.0054363608,-0.0916755274,0.0100913644,-0.0010963645,-0.0404640064,-0.0069417865,0.0268559493,0.0094205318,-0.0249574389,0.0105475308,0.0171264075,-0.0115479734,0.023983283,0.0086447168,0.003840676,-0.0504206531,-0.0407440588,-0.0346254073,-0.0318915769,0.0018010532,-0.0203616228,-0.0261414777,0.0095935501,0.003457525,0.0122254798,0.0016131335,-0.0010513006,0.011247253,-0.0396289267,-0.001885686,-0.001578378,0.0318372808,0.0562345088,0.0277773384,-0.0472345166,0.0719643086,-0.033592999,0.0257316865,0.0201327894,-0.0539996512,0.0131401261,-0.0370470546,0.05803876,-0.0260139257,-0.0471142195,-0.002843681,0.007091457,0.0253542103,0.0151446937,0.0160602834,-0.0349017084,-0.0071664215,0.0318742134,-0.0121059772,0.0682985634,-0.041094739,-0.0457293242,0.0960734561,0.0748693123,0.0200743396,-0.0058360524,0.0285759214,-0.0496256091,-0.0405482128,-0.0408255048,0.0102442009,0.0029177123,-0.0492831469,0.0302088037,-0.0178169832,0.0100953914,0.011886552,0.0050371308,0.0217750501,0.0394304134,-0.0660429895,0.0298883393,0.0157692954,0.0130343232,-0.0434164517,-0.0374974646,-0.0130954683,-0.021060247,-0.1019083261,-0.0057795411,0.0159163084,0.0293175373,-0.0124571556,0.0040726187,0.1016934663,0.0316004865,0.0577649288,-0.0088158557,-0.0265223477,-0.0375559367,-0.0414545462,-0.0119566228,-0.0132242003,0.0367364623,0.0504471511,0.0280333105,-0.0310116522,0.0356122889,0.0417682454,0.0256169923,-0.0043126843,0.0017969038,0.0102897221,-0.0002858785,0.0550724342,-0.0318735987,-0.0257139411,0.016610913,0.00028105,-0.0397945382,-0.0041666185,-0.0394076295,-0.0437647365,0.0082131466,0.0075265737,-0.0215697736,0.0113307498,0.0246403515,0.0514856279,-0.008000372,0.0652369633,0.0609170869,0.0365122333,-0.0176353492,-0.0109116118,-0.0360644162,-0.0317008793,0.0494186766,-0.006898467,0.010941904,-0.0185697451,0.0371690392,0.0250181369,0.0392494313,0.0843594,0.0169138964,0.0246496499,0.0406062119,-0.0421597324,0.0283959378,-0.0250746775,-0.0085663768,-0.0538322218,0.0458589159,0.0337632895,-0.0007758008,-0.0205669589,0.0064538093,-0.0049780225,0.0403000489,0.0139613515,0.0055424934,0.0284731593,0.0148510914,-0.0317872278,0.0210490972,-0.0276761781,0.0485924296,0.0024075601,-0.0161452219,0.0315272771,-0.001229985,-0.0005283339,-0.0085588824,-0.0237059854,0.0206743777,0.0052217199,0.1066615805,0.0545687489,-0.0142817199,0.045279067,-0.0065451865,0.0064961901,0.000400873,-0.0322585069,0.0127591863,-0.0285415426,0.0394848175,-0.0187326539,-0.0374137759,-0.0720295087,-0.0258400496,0.0558845252,0.0327337384,-0.0079935733,0.0284376256,-0.0155136185,0.0541716553,-0.0105547458,-0.0115316752,-0.0108660059,-0.0063203042,-0.0160666294,0.0299001057,-0.0176171958,0.0036972961,0.0333004035,-0.1109853685,-0.0624120831,0.0013731371,0.0443751402,-0.0020133844,-0.0201446172,-0.0216349456,0.0611786097,-0.0053768866,0.0188106913,-0.0490005426,0.0102669066,-0.0670022368,0.0119424053,-0.0326886736,-0.0057566315,-0.0369925536,-0.0125335502,-0.0067690671,0.024371637,0.03612376,-0.0204572473,-0.0284015629,0.0048196567,-0.0141862528,-0.0693819672,-0.011136543,-0.0150456605,-0.0171231851,-0.0381595045,0.0471914075,0.0434975438,-0.0722671002,0.030825302,0.0424412861,-0.0938457772,0.0623040386,-0.0015575514,-0.0014196698,0.0539712608,0.0133894188,0.028344743,-0.0515394993,-0.0518407337,-0.0788867995,0.0026665658,-0.0576784126,-0.004988695,0.0178650115,-0.058622323,-0.0827633739,0.0156080239,-0.0121263433,-0.005184493,-0.0240352843,-0.0012067802,-0.0268989913,0.0093896706,0.0245671663,-0.0352783836,-0.0362207927,0.0252279844,-0.0274581015,0.036173366,-0.0078542735,0.014860007,0.0398283415,-0.0396067612,-0.0117466506,-0.0044050375,-0.0100144241,0.0847451985,-0.0410964079,0.0102525027,0.0536520295,0.0021631129,0.0477495901,0.0136362631,0.0257566366,0.0218696985,-0.0463225394,-0.0108006215,-0.0043060044,0.053205125,-0.0410872735,0.0820265338,0.0014648013,0.0055939532,0.0225279089,-0.0308429301,0.0135536687,0.0128787952,0.0031433392,-0.0071607004,0.0497338139,0.0144531252,0.0057780924,-0.0111112325,-0.0396310985,0.0348803289,0.0592152104,0.0323018916,-0.0306305382,-0.0022036771,-0.0094107362,0.0501865856,0.0772935301,0.0309157409,-0.020447623,-0.0235991292,0.004317156,0.025112059,0.0303411912,-0.0177922882,-0.0416946523,-0.0630669519,-0.0653847083,-0.0139354263,0.0027596829,0.0125117274,-0.0086638266,0.0106767155,0.0402230546,-0.0151407169,-0.0064434432,-0.0015102163,-0.0135861486,-0.0308974944,-0.0030237453,0.0470764637,0.0246948786,-0.0255736709,0.012043939,0.0743050277,0.0194133595,-0.0347008891,-0.0134569956,-0.050773941,-0.0249284469,-0.0122679286,-0.0154772727,0.0621594526,0.0114560192,-0.0287487265,-0.0231154487,-0.0077623278,0.0803344026,-0.0088683786,0.0105101103,0.0607033893,-0.0692920312,0.0149620986,0.0127484603,-0.0032721739,-0.0082077943,0.0102670714]}\n",
      "{\"id\":73573670,\"embedding\":[0.0000873438,-0.0744278356,-0.0152035533,0.0303537343,0.0171999,-0.0071798665,0.0547251813,-0.0139583219,-0.0497569852,0.0544032343,-0.0451437905,-0.0158584043,0.0673708916,0.0172959287,-0.0392748564,-0.0471983589,0.026092045,-0.0129053444,0.0131224189,0.0053050015,-0.000043831,-0.000439101,-0.0537383407,-0.0768090561,-0.0599693023,0.002209868,-0.0511327125,0.0003119193,0.0030731577,0.0290574059,-0.0037841601,-0.0311957449,-0.0003376798,0.0037585492,0.0150969168,0.017924618,0.0282367915,0.0642718002,0.0515297092,-0.0423424169,-0.0955183357,-0.0068268166,-0.0120823942,0.0093175117,-0.025505729,-0.01463247,0.0083318008,0.0038182025,-0.0093963156,0.0142218359,0.036332652,-0.0020699543,-0.0155317225,-0.0268424507,-0.0290829912,0.013031166,-0.0086746933,0.0342459232,0.0404209122,-0.0099196266,0.0248611178,-0.0342994742,0.0309367534,0.0020389229,-0.0255983286,-0.0322127528,0.0132469339,-0.0419163965,-0.0398006551,0.0334562063,-0.0174459908,-0.0034799878,-0.0115636522,-0.0011188987,0.0501246378,-0.0088211847,0.0600240193,-0.0293294955,0.0059466651,0.0698074996,0.0019145408,0.0255431924,0.0687586591,-0.0144144343,0.0739087164,-0.0217936561,-0.0295481179,0.026742734,-0.0410128422,-0.0428370312,0.0493259728,0.0056627546,-0.0176283848,0.0858868137,-0.0028027743,-0.0228628814,-0.0854727104,-0.0094758794,0.0018830011,0.0134070916,-0.0800687522,-0.056068942,0.0067747156,-0.0711367279,0.0422172919,-0.0288210232,0.0151895052,-0.0678997263,-0.0240810644,0.0510736033,-0.0298276693,0.0003026966,0.0118984291,0.0126546612,0.0073899333,0.0302633252,0.0073471703,0.0132784462,0.026407402,0.0508118272,0.0314527862,0.0016911892,0.0076840301,0.025083404,-0.0096733645,0.0642772987,0.0260287635,0.0365699902,0.0046539782,0.0204480048,0.0084709264,-0.050897561,-0.0477464199,-0.0209410302,0.0075439084,-0.0722636282,0.0163109638,0.0262524001,0.0423667841,0.0237940867,-0.0028603973,0.033214502,-0.0083499625,-0.0069352943,-0.021459315,0.0589234121,0.0430867635,0.0473173484,0.0341584571,-0.0039665615,-0.0275120474,-0.0046229698,-0.0230842978,-0.0446381867,0.0166810714,-0.0407900959,0.0411467925,-0.0467632189,0.0429686345,-0.0131364409,0.0052541089,-0.0695781633,0.010969053,-0.0378794111,-0.0546021834,0.0195999313,-0.0024789202,-0.0426009335,-0.0253862459,0.0206566472,-0.0288076159,0.0003231668,-0.0469879732,-0.0775363594,-0.0552195311,0.0275749862,0.0339572392,0.0246581398,-0.0087682027,0.0385924168,0.07512106,-0.0224808045,0.033562582,-0.027485868,0.0647878051,0.0432067886,-0.0097779427,-0.024815971,0.0887519568,-0.0330217518,0.0012263646,-0.0202671662,0.0802380592,0.0466813892,-0.0528000593,0.0326783285,-0.0213925038,-0.0220346972,-0.0229854826,-0.0264871195,0.0193440113,0.0719225779,-0.0232049003,-0.0374091268,-0.025921572,-0.0486159362,-0.0081988564,-0.0334716477,0.032975439,0.0166278556,-0.0201137178,0.0076293121,-0.0508387834,-0.0526186675,-0.0309842769,-0.0113315731,0.0518453866,0.0380876549,0.0477250256,-0.107469447,-0.0093132146,0.0077586649,0.0010464902,0.0472433195,-0.0137516353,0.0550018884,-0.0259417091,0.0051935501,0.0462284461,-0.0005110326,0.0446998179,-0.0052511697,0.0002697263,0.0319594741,-0.0347441919,0.0564247034,0.0118217282,-0.0073301205,-0.0513896346,0.0350827836,-0.0044809473,-0.0045497483,0.0676840916,0.0234027319,0.0824685246,0.0078907525,0.0016959857,-0.0100270836,-0.0001238908,-0.0134783015,0.0130381286,-0.0389748551,-0.0302319098,0.0097326823,0.0022170478,-0.0022939171,0.0259200782,-0.0034504579,0.0372864418,-0.0350544043,0.0340459682,-0.0330073647,-0.0113978963,-0.0584515892,-0.0259695835,-0.0505484901,0.0286322981,0.0115927411,0.0250422098,0.0178459492,0.0421042442,-0.0380146801,-0.0618273951,-0.0207180083,-0.0581977777,0.0060529634,-0.0111813592,0.0162588209,-0.048715163,-0.0093469918,0.0033615003,-0.0240251198,-0.0004716355,-0.0582635328,0.0539979674,-0.0254277978,0.0255456604,0.056494642,0.0280810129,-0.0155749787,0.0355221927,0.0490978248,-0.0177381579,-0.0036197647,0.015049289,0.0247039273,-0.0103124678,-0.0039695241,-0.0520974286,-0.0299298093,-0.0015799365,0.0076974551,-0.0339193121,0.0403788015,0.0013611268,0.0183403119,-0.0314334631,-0.0126332184,-0.0577557683,-0.0367678292,0.0096165724,0.0042266408,-0.0291724522,-0.0310248397,0.0500238799,0.0106037771,-0.1017232165,0.0155996066,-0.0444883928,0.0064226417,-0.006256172,0.0074296007,0.0046171146,0.0247155,0.0337145478,0.0420296639,0.0366699994,-0.0354474783,0.0165729448,0.0042934273,0.0203619134,-0.0572717227,0.0195285585,-0.0560684577,0.006057743,0.0542011559,-0.029607622,-0.0450124294,0.0933269784,0.1075480431,0.0544839278,0.036814075,0.0083876587,-0.0497895181,-0.0034234615,-0.0131858373,-0.0377317071,0.007353303,-0.0022561199,0.0493703634,0.0206548031,0.0114450976,-0.01152426,-0.043647252,0.0112623228,0.0331789926,0.0148955369,0.0182327647,0.0062962915,-0.0224623103,0.005110709,0.0892924964,0.0154306786,0.0286551826,0.0586127564,0.0329036675,0.0836389884,0.0027958334,-0.042760957,-0.0133581627,0.046709545,0.0044771405,0.0043123215,0.0352985859,0.0281640124,-0.0253709666,-0.0026349251,0.0283738095,0.0727509782,0.0273161195,0.0072101704,-0.0161077436,0.0544339754,-0.0261645969,-0.0164939463,0.075581491,-0.0770141408,-0.0147342924,-0.0260225181,-0.0037948291,-0.0009854594,0.0954334736,-0.0141853616,-0.0140648931,-0.0273422636,0.0536217578,-0.0211088266,0.0928256139,-0.0041265474,0.0265153777,0.0021290672,0.0449785553,0.0244741961,-0.0004417297,0.0266731549,-0.042690035,-0.0327871516,0.023122441,-0.0080230525,0.0053308122,-0.0342608318,-0.0043309601,-0.0099194534,-0.0092372419,-0.0411493927,-0.0350877829,0.0951927081,0.018687373,0.0115845436,-0.0061555109,0.0051826686,0.0358530991,0.0570772626,0.0067875627,0.0161932502,0.0044656652,-0.09707544,-0.0246082079,-0.0444081947,-0.0046740146,-0.0450556129,0.0159450714,-0.0206883494,0.0114324372,-0.0467934981,0.0498077162,-0.0075917575,-0.0251857862,-0.0046826443,-0.0092458492,0.0015786509,-0.0040619774,0.0472066142,0.0162997674,-0.0468429737,0.0288496874,0.0291702878,-0.0597486682,0.0223970674,-0.0341891646,-0.0347211398,0.0097943302,0.0216814149,-0.0304840989,0.0410543345,0.0454606004,0.0248937719,-0.051303979,0.0356799029,-0.0209164657,-0.0021398594,-0.0441878587,0.0403875485,0.0649217069,0.0133722182,-0.0724913552,-0.0601811111,0.0109780449,-0.0117197027,0.0406749472,0.025150504,0.0053137606,0.0042708004,-0.0043618581,0.0242665373,0.0087784035,0.0454474203,0.0118603492,-0.0663574561,-0.014575189,-0.0139736133,0.0261606369,-0.0114524635,-0.0215023588,0.0796450749,-0.0053814929,-0.0366780832,-0.0107561257,-0.0039489684,-0.0078513091,0.0362822115,-0.0192588791,-0.0405636542,-0.0490141474,-0.0030531739,0.0305178277,0.0092730653,0.0395513959,0.0228550397,0.0732720271,-0.0015796536,0.041443564,0.0036647632,-0.0294086579,0.0129340552,0.0467879772,-0.01900349,0.0099183284,-0.0083357003,-0.0054908814,0.0588338859,0.0092179878,-0.0167375524,-0.027531974,-0.0090878988,0.0715825856,-0.061253421,0.0005675499,-0.0264257602,0.0210335925,0.0092299785,-0.0732711777,0.0425423644,-0.1000589803,0.0094029587,-0.0265414771,0.072356075,0.0455302,0.021138221,0.0321515128,0.0243205447,0.0698477104,-0.0313805193,0.0245117173,0.0341628678,0.0021262621,0.0390764214,-0.0046453504,0.0372676328,0.0416289642,0.0274370257,-0.0170493517,-0.0045147012,-0.0327016525,0.0484999083,0.0306320228,0.0033278421,0.0457093455,0.0315529443,-0.0037001923,-0.0611934103,-0.0083763869,-0.0059322696,0.024356883,0.0499080345,-0.0171342455,0.0331099629,-0.0036101402,-0.0346852615,0.0529033057,-0.0066313841,-0.0349976495,-0.0912112594,0.0584243871,0.0269026496,-0.0249769036,-0.0075260857,0.0348963253,-0.0908202603,-0.0406904109,-0.0153124733,-0.0327090994,-0.0140671739,-0.0049186144,-0.0121354554,-0.0347760692,-0.0172539745,0.0135735441,0.0424266309,-0.0452057011,-0.0159618333,0.0076000565,0.0515526496,-0.0272929706,-0.0047164299,-0.0350887775,0.0003269361,0.0233093686,-0.0097004473,0.0249596145,-0.0143192708,-0.0048023574,-0.0216471888,-0.0136930114,-0.059679646,-0.0282565504,0.020409286,0.0355577022,-0.0742633119,-0.0648504421,-0.0136115234,-0.0220254455,0.0139107276,0.0145661877,-0.0275543556,-0.0536440723,0.0644940957,-0.0536089838,0.0040899012,-0.0528296679,-0.004723473,0.0528763495,-0.0219690055,-0.0674022585,0.0231310222,-0.0360819399,0.006880329,-0.0094301067,0.0184834376,0.022596756,0.0174841527,0.0039402251,0.0181864444,-0.0173236988,0.0189348757,-0.0167220589,-0.0569239035,-0.0191995557,0.004559611,0.0591815338,0.0033697262,0.0496734194,0.0503020883,0.0030965407,0.0104747927,-0.0176951624,0.009574201,-0.0062684244,-0.0272625796,0.0240507014,0.0390459076,0.0472158268,-0.023175044,0.0159623623,-0.0293798,0.037853498,-0.0090281172,0.0171198063,0.0079455981,0.032396093,-0.0114582665,0.0639576167,-0.032975357,-0.0201511793,-0.0088107605,0.0106722582,-0.0603666157,0.0191539731,-0.0344883986,-0.0336071961,-0.0456782915,-0.0786901191,-0.0284827016,-0.0092351129,0.0176540148,0.0103160441,0.0149083063,0.0332476012,0.0451074094,-0.0069403048,0.0941942185,-0.0324044973,-0.0069242166,0.0498697646,-0.0090223672,-0.0314791538,0.0186232124,0.0003918501,-0.0126411375,0.0040913625,-0.0208983645,-0.0489802733,-0.0288702101,-0.0052897958,-0.0275743958,-0.0335445106,0.0000530161,-0.0221103784,0.016602328,0.0137722949,-0.0409894064,-0.0065921601,-0.0598144643,-0.0181468669,-0.0147306044,-0.0036890777,-0.0201150496,0.0139482934,-0.006417349,0.0015921377,0.0546998493,0.0484540537,-0.0088112531,-0.0500015244,0.0419329815,-0.0336793438,-0.0314083323,0.0181016661,-0.0869146585,0.0022895855,-0.0546428896,0.0016341856,0.0827346817,0.0263353344,-0.0248796679,-0.0178521313,0.0667491779,0.0450017862,0.0022113407,0.020479314,0.0424050465,-0.0432737172,0.0636525452,0.0582675338,-0.0113403806,0.0078427773,-0.0540286005,-0.0285422187,0.0421145931,0.0656926557,0.037688788,-0.0235154405,-0.0544038936,-0.0193687063,-0.0258162506,0.0089312633,0.0310968664,0.0279614162,-0.0295169689,-0.0336562879,-0.0080309724,-0.007933354,-0.0009396556,-0.0232512522,-0.0187425651,0.0257928651,0.0154571058,0.0006992797,0.0053172624,0.0028710167,-0.0675709471,-0.0319405273,-0.0112817194,0.0250452962,0.0045863488,-0.0505301543,0.0668433532,0.025706552,-0.0230907407,0.0377942175,-0.0035259577,0.0207306799,-0.0125106443,0.0285679381,-0.0206411015,-0.0649540424,0.0224483889,0.0278720781]}\n",
      "{\"id\":73583172,\"embedding\":[0.005916744,0.0305018872,-0.0029399355,0.0114142774,0.0209877398,0.0093272272,0.0149147008,0.0034754789,-0.051608514,0.0390736051,-0.0749320984,0.0333576128,0.0272733122,0.0468739308,-0.0561229475,-0.0219105799,0.0538135059,-0.0011916822,-0.056261003,-0.0196534265,-0.0019396796,0.0125768464,-0.0591792762,-0.0186896529,0.0539521091,-0.0895600915,-0.0008209235,0.0791135654,0.0042355126,-0.0372250117,0.0388110057,-0.0211552288,0.0460572988,0.0164156966,0.0185706466,0.075746879,0.0321018919,0.0684635267,0.0438411571,-0.022878645,-0.0598448403,-0.0130944764,-0.021003101,-0.0277134087,0.0123550911,-0.0393346511,0.0256901737,0.0772458836,-0.04948714,0.0488046035,0.021638032,0.0028255784,-0.0605781935,0.0163980275,0.0002086792,-0.0179669671,0.0022702063,-0.0161359347,-0.0118444581,0.0209544264,0.0559002422,0.0605982356,-0.0312746316,0.014686292,0.071489051,0.0410693735,-0.0047553056,-0.0109039042,-0.0855434239,0.0353595316,-0.0131666791,-0.005422622,-0.0486027077,-0.033969447,-0.0293353125,0.0355243161,0.0407500304,-0.0188751724,-0.0207450446,0.0299768746,-0.0224653427,0.0413414128,0.0188897289,0.027617801,-0.0015937572,0.0192399863,-0.0051855226,-0.0559796616,-0.0485595874,-0.002946595,0.03338404,0.0179061741,-0.004081639,-0.0205029901,0.0062151295,-0.0931914374,-0.1088667735,-0.0587385297,0.0210917946,0.0629788935,-0.0699524134,0.0122885555,0.0095780008,-0.0443450697,0.0543480851,-0.0502835438,-0.0597187467,0.0041664895,-0.0421166606,0.0645925626,0.0412589125,0.0444504507,-0.0022253783,0.047094699,-0.0588844083,-0.0232710913,-0.0083590383,0.0103971269,0.0458981805,-0.0016368357,0.0553923286,-0.0221951418,0.0031778708,0.0844366625,0.0204751156,0.0645852387,-0.0311345458,-0.0275609884,0.0074035483,0.0211311299,0.0402808487,-0.0050658486,0.0210223943,0.0020737364,-0.0324165411,-0.0131130656,-0.0430351906,0.0067280233,-0.017458234,0.0442534685,-0.0173767097,0.0132927774,-0.0620458908,0.0033933059,-0.000705855,-0.026854571,-0.016660545,0.0695168972,-0.0104350634,0.0387068056,-0.0623457432,0.0354531556,0.0214477312,-0.0124401152,-0.0774455965,0.0150058577,0.0615496971,-0.0250738952,-0.024014337,-0.0342004485,0.0058796275,-0.009970366,-0.0404529572,0.0138301002,0.0068875095,0.0358171724,-0.0577041209,-0.0173192266,-0.0046754796,-0.0014443357,0.0056678024,-0.0470480099,0.0509053357,-0.0024180592,-0.0407735221,0.0456150733,-0.0112883598,-0.0390839465,-0.0079943957,-0.0123102069,0.0603623725,0.0032162801,-0.0239881855,-0.0520499833,0.0324401595,0.0337542631,0.0022730103,0.0324977674,-0.0296504814,-0.0292494968,-0.0142879141,-0.0085764444,-0.0494202003,0.0339371823,0.0067601125,-0.1021053046,-0.0467741452,-0.0372323319,-0.0051709511,0.0454545245,0.0469512939,0.0198435001,-0.0288489368,-0.0305842701,-0.0374424793,0.0285303704,0.0360032506,-0.0044147549,0.0327016599,0.0513424613,-0.0386382416,-0.0276947599,-0.0438405164,-0.0279529821,0.0165124964,-0.0024526699,-0.0207665768,-0.0235161781,0.0975870937,-0.0539575443,0.0079133268,-0.0111019537,-0.0315358564,0.0009378819,0.0685563907,0.0195922274,-0.0188948326,0.0347926393,0.0340702534,-0.0453958847,0.0026095288,0.0649318397,0.0156709161,0.0269135423,0.0018237439,0.0013152186,0.0675236359,-0.0154181728,-0.0115748178,0.0665651709,-0.0050540478,0.0099960025,0.0637994111,-0.0498720221,0.0543494821,0.0362263694,0.0211369731,0.0143558495,-0.0017876899,-0.0670632124,0.0234659966,0.0058930782,-0.0324984863,0.0019164667,-0.0491375513,-0.0209705234,0.0347628742,0.0122876605,0.0164013449,-0.0268359054,0.0506041199,-0.0355522595,0.0251205489,-0.0118011935,-0.0456143133,0.0032145542,-0.0077813673,-0.0277951378,0.0410967097,-0.0266223308,-0.0051943772,-0.0222660638,-0.0233644582,-0.019967854,-0.0530975387,-0.0285362303,0.0161707085,-0.0104525648,-0.0399413593,0.0200922824,0.0278641339,-0.0233840197,0.0371389985,0.0459174551,0.0230821054,-0.0518965237,0.0086373677,0.0270799827,-0.0282716081,-0.0303732846,0.0197543036,-0.0078295767,-0.0395809673,0.0267691966,0.0123916231,-0.01168036,0.0289906487,0.0190810114,-0.0485592075,-0.0467092432,0.06767039,0.044697728,0.0108004771,0.0144205373,-0.0136142001,0.0755260438,-0.0066754133,0.014286682,0.0207440481,0.008491165,0.0038598159,-0.0075805336,-0.0081766648,-0.0399472266,-0.015210107,0.0333388373,-0.0876542032,0.0023409852,-0.0459665656,-0.0343034789,0.0200369153,0.0455097593,0.039057035,0.0235776193,-0.0144023765,-0.0147363404,-0.0108834915,-0.0065984596,0.0111232204,-0.0224350654,0.0836667493,0.0217201598,-0.0273484811,-0.0388466269,0.0122858398,0.0353232361,-0.0250477158,0.0436970741,-0.0041300221,-0.0190191921,0.0575207211,0.0078268275,0.0451948158,0.0027839262,0.0408925563,-0.0425825007,0.0174868535,0.0493395291,0.0100775966,-0.0147529598,0.0365958288,0.0166717898,0.0027316187,0.0242553111,-0.0007930667,0.0410806723,0.0055912528,-0.0144069046,-0.0080368556,0.0241007432,-0.0149113713,0.0345430672,-0.0183832068,0.0298711862,-0.0021535431,0.0037157733,0.0047187964,0.0185450111,0.038094487,0.0442393646,-0.0365275554,-0.0127555598,0.0244488902,0.0340101123,-0.0103127249,-0.0453220084,-0.0695809871,0.0143149355,0.0025912568,0.011079954,-0.05941182,-0.0706647038,0.0268043857,0.0005224007,-0.0167160761,0.0250408221,0.0004469237,0.0249939915,-0.0096743824,-0.0518218875,-0.0921365395,0.1009264141,-0.0186179318,0.0471844152,0.0308986921,0.0799806118,-0.0459300205,0.070387207,-0.0111029278,0.0296478886,0.0002772463,-0.0715871602,-0.0087884804,-0.0154194906,0.0078432485,0.0528794192,0.0138343945,0.0308715031,0.0185297132,0.0073894002,-0.0330544822,-0.040277414,-0.036587093,-0.0066633034,-0.023911953,0.0152873592,0.0231104661,-0.0361136943,0.0429644994,0.0017055416,0.0484840237,0.0086371377,-0.0177253075,-0.0321810767,0.0238129608,-0.097434029,-0.0093473066,0.0157132689,0.0054720449,-0.0385943353,0.052592095,-0.0275307,0.0012364853,0.0117746172,0.0186827332,0.0367631987,-0.0236283801,-0.0556122027,-0.0263682753,0.0330394804,-0.0158760026,0.0006856407,0.0669076741,0.0518951975,-0.060452681,0.0510953702,-0.0089504113,0.023501005,-0.0058358819,-0.0542984158,0.0074236891,-0.0687785447,0.0484591872,-0.0468561165,-0.0093518561,-0.0034504791,0.0175407361,-0.0045568156,0.0360497572,-0.0027749927,-0.0189191811,-0.0183673948,0.0560260154,0.0165911894,-0.0237207022,-0.0136742927,-0.0573697314,0.0031476892,0.014888132,0.020530127,-0.0390805341,-0.0223556831,0.0375475325,0.0079956325,-0.067307286,-0.0048563443,0.0123012373,0.0237047747,-0.0455743633,-0.0204493515,0.0293247271,0.0548604727,-0.0363827199,-0.0144363549,-0.0035699944,-0.0388580225,0.0291304979,-0.0446388982,-0.0067979069,0.008781842,-0.0574904978,-0.0195707604,-0.0279007386,-0.0699778423,0.0401186943,-0.0544933937,0.0130134663,-0.0282743927,0.0073172399,0.0229548048,0.0383105129,0.0406181403,-0.0718266964,-0.0323657356,0.014943881,0.0310626049,-0.0353843533,-0.0167050697,0.0206664037,0.0188452266,0.021298131,0.0050802296,-0.0493203476,-0.0104095275,-0.0233044159,0.027344171,-0.0104250135,-0.0271547399,0.0277290028,0.0136165582,-0.0051386384,0.0156913139,0.048426345,-0.0354302153,-0.0330797844,-0.0606273822,-0.0195377599,-0.0365660079,0.0483577177,0.0344745405,-0.0333291329,0.0783202499,0.0186714046,0.0398529023,-0.0284287427,0.0030549462,-0.0094254203,0.0409259312,0.0227514319,-0.0457034074,-0.0360842496,0.0364081077,0.0429103151,-0.0250716116,-0.0068764878,0.0311581977,0.0050817328,-0.0218203533,-0.0242091436,0.0659979135,0.0032795561,0.0094533022,-0.0173364915,-0.0009704932,0.037897408,-0.0936243236,0.0015257646,0.0294458587,0.0197052695,0.0597282052,0.010407757,-0.0351895317,-0.0495855436,0.0203955937,0.0079297526,-0.0092850821,-0.0087690894,0.0532011688,-0.0684876144,-0.0061209407,0.0074891211,-0.0499687716,0.0128383646,0.0198135637,0.0121644661,-0.0099449418,-0.0345936529,0.0157380663,0.0132707311,0.0191783085,0.0069462191,-0.0033741386,0.0305165686,0.0263605937,0.0480372086,-0.0374873988,0.01512603,-0.0602249391,-0.0199623127,0.0055581415,-0.0143083055,-0.0838101879,0.0576506816,-0.0602809861,-0.0178906657,0.0053335931,-0.0614453629,-0.0057073315,0.0198208801,-0.0452051386,-0.0008570129,-0.0344412215,0.0603957847,-0.0038498712,-0.0130636264,-0.0360611081,0.0188053753,-0.0740536228,0.0226609036,0.0246083662,0.0123232817,-0.0329730324,-0.0405433215,-0.0250892751,-0.0741253123,0.0358888693,-0.0024323184,-0.0401019938,0.0184662845,0.0635371059,0.0217912905,-0.0142450305,0.0239847042,-0.0433629192,-0.0061457856,-0.0004444913,-0.0463291183,-0.0279867165,0.0240444634,0.0101976749,-0.0288129859,0.0185465813,-0.008385432,0.0453192443,-0.0243299901,-0.000515032,-0.0333920419,0.0642400607,-0.0180724822,-0.0013642581,0.00401557,0.0072841709,0.0479227863,-0.0172809977,-0.0611388087,0.0299679302,-0.013024617,-0.0380112268,-0.0265660975,0.0171224978,0.042033948,0.0814864859,-0.0132169658,0.0451785326,-0.0586145595,0.0652360171,-0.0129578235,-0.0506485924,0.005967244,0.0147389108,-0.0194815416,-0.0123508191,-0.0518730842,-0.0134144444,0.0037707593,0.0176256001,-0.0289797727,0.0024402572,0.0152809666,-0.0024790072,0.0065912376,-0.0513911992,-0.0440884009,0.03248813,0.0079751508,-0.0474385545,0.0469015911,0.0641274601,0.0411256403,0.0535788499,-0.0238666832,-0.0403230973,0.0216700546,-0.0010214584,-0.0493510924,0.0351704545,0.0463641137,-0.0105107138,-0.0061770896,0.0929832086,0.0233937912,-0.006612136,-0.0520840585,0.0103247007,-0.0361667015,0.0432948694,0.0753974319,0.0221582726,-0.0367251337,0.0261758007,0.0047589918,-0.0202717502,-0.0505695902,-0.056971848,-0.036805179,-0.0029118431,0.0185047314,0.0322101153,-0.0207921173,-0.0807832107,-0.0113180261,0.0639812797,-0.0140890172,0.0080409106,-0.0094672479,0.0119533865,0.0159064904,-0.0172762442,0.0318934582,0.0078793773,-0.0080697248,-0.03686193,-0.0224937163,-0.0308272783,0.0437003225,0.0036994917,-0.0547141246,-0.037131276,-0.0405636281,0.0578694791,-0.016586734,-0.0186174978,-0.0275814757,0.0390994512,0.0094424011,0.0085154856,0.0005052714,0.022721367,-0.0480879024,-0.0004331308,0.0145092206,-0.0206987727,-0.0722288862,-0.0210624505,-0.0220031478,0.0285939481,0.0348738842,0.0005298554,-0.027418334,0.002818465,-0.0504214279,0.0390587896,0.0202707313,0.037494611,-0.0142517006,-0.030314751,0.0839995667,-0.0193555802,0.0646653995,0.013930059,-0.0288448986,0.0155633455,-0.007247522,0.0339663476,0.0203338843,-0.0086795548,0.0109587675,0.0661056265]}\n"
     ]
    }
   ],
   "source": [
    "# save id and embedding as a json file\n",
    "jsonl_string = df[[\"id\", \"embedding\"]].to_json(orient=\"records\", lines=True)\n",
    "with open(\"questions.json\", \"w\") as f:\n",
    "    f.write(jsonl_string)\n",
    "\n",
    "# show the first few lines of the json file\n",
    "! head -n 3 questions.json"
   ]
  },
  {
   "cell_type": "markdown",
   "metadata": {
    "id": "-WTNJ3FAQl_W"
   },
   "source": [
    "Then, create a new Cloud Storage bucket and copy the file to it."
   ]
  },
  {
   "cell_type": "code",
   "execution_count": 14,
   "metadata": {
    "id": "CzwDWJfzAk3n",
    "tags": []
   },
   "outputs": [
    {
     "name": "stdout",
     "output_type": "stream",
     "text": [
      "Creating gs://qwiklabs-gcp-00-a999ccc82f08-embvs-tutorial-03041349/...\n",
      "Copying file://questions.json [Content-Type=application/json]...\n",
      "/ [1 files][  9.8 MiB/  9.8 MiB]                                                \n",
      "Operation completed over 1 objects/9.8 MiB.                                      \n"
     ]
    }
   ],
   "source": [
    "BUCKET_URI = f\"gs://{PROJECT_ID}-embvs-tutorial-{UID}\"\n",
    "! gsutil mb -l $LOCATION -p {PROJECT_ID} {BUCKET_URI}\n",
    "! gsutil cp questions.json {BUCKET_URI}"
   ]
  },
  {
   "cell_type": "markdown",
   "metadata": {
    "id": "xxdbjKw1XDxl"
   },
   "source": [
    "### Create an Index\n",
    "\n",
    "Now it's ready to load the embeddings to Vector Search. Its APIs are available under the [aiplatform](https://cloud.google.com/python/docs/reference/aiplatform/latest/google.cloud.aiplatform) package of the SDK."
   ]
  },
  {
   "cell_type": "code",
   "execution_count": 15,
   "metadata": {
    "id": "8unyr9KagAoI",
    "tags": []
   },
   "outputs": [],
   "source": [
    "# init the aiplatform package\n",
    "from google.cloud import aiplatform\n",
    "\n",
    "aiplatform.init(project=PROJECT_ID, location=LOCATION)"
   ]
  },
  {
   "cell_type": "markdown",
   "metadata": {
    "id": "xpMUXqWQ75uu"
   },
   "source": [
    "Create an [MatchingEngineIndex](https://cloud.google.com/python/docs/reference/aiplatform/latest/google.cloud.aiplatform.MatchingEngineIndex) with its `create_tree_ah_index` function (Matching Engine is the previous name of Vector Search)."
   ]
  },
  {
   "cell_type": "code",
   "execution_count": 16,
   "metadata": {
    "id": "kKDw5VXMkXb3",
    "tags": []
   },
   "outputs": [
    {
     "name": "stdout",
     "output_type": "stream",
     "text": [
      "Creating MatchingEngineIndex\n",
      "Create MatchingEngineIndex backing LRO: projects/486565210005/locations/us-west1/indexes/7059788240089251840/operations/5646270934827401216\n",
      "MatchingEngineIndex created. Resource name: projects/486565210005/locations/us-west1/indexes/7059788240089251840\n",
      "To use this MatchingEngineIndex in another session:\n",
      "index = aiplatform.MatchingEngineIndex('projects/486565210005/locations/us-west1/indexes/7059788240089251840')\n"
     ]
    }
   ],
   "source": [
    "# create index\n",
    "my_index = aiplatform.MatchingEngineIndex.create_tree_ah_index(\n",
    "    display_name=f\"embvs-tutorial-index-{UID}\",\n",
    "    contents_delta_uri=BUCKET_URI,\n",
    "    dimensions=768,\n",
    "    approximate_neighbors_count=20,\n",
    "    distance_measure_type=\"DOT_PRODUCT_DISTANCE\",\n",
    ")"
   ]
  },
  {
   "cell_type": "markdown",
   "metadata": {
    "id": "2rFam_w9U0dI"
   },
   "source": [
    "By calling the `create_tree_ah_index` function, it starts building an Index. This will take under a few minutes if the dataset is small, otherwise about 50 minutes or more depending on the size of the dataset. You can check status of the index creation on [the Vector Search Console > INDEXES tab](https://console.cloud.google.com/vertex-ai/matching-engine/indexes).\n",
    "\n",
    "![](https://storage.googleapis.com/github-repo/img/embeddings/vs-quickstart/creating-index.png)\n",
    "\n",
    "#### The parameters for creating index\n",
    "\n",
    "- `contents_delta_uri`: The URI of Cloud Storage directory where you stored the embedding JSON files\n",
    "- `dimensions`: Dimension size of each embedding. In this case, it is 768 as we are using the embeddings from the Text Embeddings API.\n",
    "- `approximate_neighbors_count`: how many similar items we want to retrieve in typical cases\n",
    "- `distance_measure_type`: what metrics to measure distance/similarity between embeddings. In this case it's `DOT_PRODUCT_DISTANCE`\n",
    "\n",
    "See [the document](https://cloud.google.com/vertex-ai/docs/vector-search/create-manage-index) for more details on creating Index and the parameters.\n",
    "\n",
    "#### Batch Update or Streaming Update?\n",
    "There are two types of index: Index for *Batch Update* (used in this tutorial) and Index for *Streaming Updates*. The Batch Update index can be updated with a batch process whereas the Streaming Update index can be updated in real-time. The latter one is more suited for use cases where you want to add or update each embeddings in the index more often, and crucial to serve with the latest embeddings, such as e-commerce product search.\n"
   ]
  },
  {
   "cell_type": "markdown",
   "metadata": {
    "id": "VLOAMF50XMI8"
   },
   "source": [
    "### Create Index Endpoint and deploy the Index\n",
    "\n",
    "To use the Index, you need to create an [Index Endpoint](https://cloud.google.com/vertex-ai/docs/vector-search/deploy-index-public). It works as a server instance accepting query requests for your Index."
   ]
  },
  {
   "cell_type": "code",
   "execution_count": 17,
   "metadata": {
    "id": "h6IzyufWCjU1",
    "tags": []
   },
   "outputs": [
    {
     "name": "stdout",
     "output_type": "stream",
     "text": [
      "Creating MatchingEngineIndexEndpoint\n",
      "Create MatchingEngineIndexEndpoint backing LRO: projects/486565210005/locations/us-west1/indexEndpoints/5922611741992157184/operations/5415461453924663296\n",
      "MatchingEngineIndexEndpoint created. Resource name: projects/486565210005/locations/us-west1/indexEndpoints/5922611741992157184\n",
      "To use this MatchingEngineIndexEndpoint in another session:\n",
      "index_endpoint = aiplatform.MatchingEngineIndexEndpoint('projects/486565210005/locations/us-west1/indexEndpoints/5922611741992157184')\n"
     ]
    }
   ],
   "source": [
    "# create IndexEndpoint\n",
    "my_index_endpoint = aiplatform.MatchingEngineIndexEndpoint.create(\n",
    "    display_name=f\"embvs-tutorial-index-endpoint-{UID}\",\n",
    "    public_endpoint_enabled=True,\n",
    ")"
   ]
  },
  {
   "cell_type": "markdown",
   "metadata": {
    "id": "11e3e1a3a9e9"
   },
   "source": [
    "This tutorial utilizes a [Public Endpoint](https://cloud.google.com/vertex-ai/docs/vector-search/setup/setup#choose-endpoint) and does not support [Virtual Private Cloud (VPC)](https://cloud.google.com/vpc/docs/private-services-access). Unless you have a specific requirement for VPC, we recommend using a Public Endpoint. Despite the term \"public\" in its name, it does not imply open access to the public internet. Rather, it functions like other endpoints in Vertex AI services, which are secured by default through IAM. Without explicit IAM permissions, as we have previously established, no one can access the endpoint."
   ]
  },
  {
   "cell_type": "markdown",
   "metadata": {
    "id": "8n33iO1T5hFO"
   },
   "source": [
    "With the Index Endpoint, deploy the Index by specifying an unique deployed index ID."
   ]
  },
  {
   "cell_type": "code",
   "execution_count": 18,
   "metadata": {
    "id": "FcBHLifGwAWq",
    "tags": []
   },
   "outputs": [],
   "source": [
    "DEPLOYED_INDEX_ID = f\"embvs_tutorial_deployed_{UID}\""
   ]
  },
  {
   "cell_type": "code",
   "execution_count": 19,
   "metadata": {
    "id": "1jUoGhY5TPFP",
    "tags": []
   },
   "outputs": [
    {
     "name": "stdout",
     "output_type": "stream",
     "text": [
      "Deploying index MatchingEngineIndexEndpoint index_endpoint: projects/486565210005/locations/us-west1/indexEndpoints/5922611741992157184\n",
      "Deploy index MatchingEngineIndexEndpoint index_endpoint backing LRO: projects/486565210005/locations/us-west1/indexEndpoints/5922611741992157184/operations/979415820964724736\n",
      "MatchingEngineIndexEndpoint index_endpoint Deployed index. Resource name: projects/486565210005/locations/us-west1/indexEndpoints/5922611741992157184\n"
     ]
    },
    {
     "data": {
      "text/plain": [
       "<google.cloud.aiplatform.matching_engine.matching_engine_index_endpoint.MatchingEngineIndexEndpoint object at 0x7f9f65702530> \n",
       "resource name: projects/486565210005/locations/us-west1/indexEndpoints/5922611741992157184"
      ]
     },
     "execution_count": 19,
     "metadata": {},
     "output_type": "execute_result"
    }
   ],
   "source": [
    "# deploy the Index to the Index Endpoint\n",
    "my_index_endpoint.deploy_index(index=my_index, deployed_index_id=DEPLOYED_INDEX_ID)"
   ]
  },
  {
   "cell_type": "markdown",
   "metadata": {
    "id": "xu9ZmWcpXQ55"
   },
   "source": [
    "If it is the first time to deploy an Index to an Index Endpoint, it will take around 25 minutes to automatically build and initiate the backend for it. After the first deployment, it will finish in seconds. To see the status of the index deployment, open [the Vector Search Console > INDEX ENDPOINTS tab](https://console.cloud.google.com/vertex-ai/matching-engine/index-endpoints) and click the Index Endpoint.\n",
    "\n",
    "<img src=\"https://storage.googleapis.com/github-repo/img/embeddings/vs-quickstart/deploying-index.png\" width=\"70%\">"
   ]
  },
  {
   "cell_type": "markdown",
   "metadata": {
    "id": "oTi4PjjbXV-O"
   },
   "source": [
    "### Run Query\n",
    "\n",
    "Finally it's ready to use Vector Search. In the following code, it creates an embedding for a test question, and find similar question with the Vector Search."
   ]
  },
  {
   "cell_type": "code",
   "execution_count": 20,
   "metadata": {
    "id": "FhNuRQqUWdfe",
    "tags": []
   },
   "outputs": [
    {
     "name": "stderr",
     "output_type": "stream",
     "text": [
      "100%|██████████| 1/1 [00:01<00:00,  1.16s/it]\n"
     ]
    }
   ],
   "source": [
    "test_embeddings = get_embeddings_wrapper([\"How to read JSON with Python?\"])"
   ]
  },
  {
   "cell_type": "code",
   "execution_count": 21,
   "metadata": {
    "id": "Q01DGMBPXAg-",
    "tags": []
   },
   "outputs": [
    {
     "name": "stdout",
     "output_type": "stream",
     "text": [
      "0.7305 How to place JSON key values into columns using Pandas Dataframe\n",
      "0.7165 Reading a section in a json result and adding to a python list\n",
      "0.6191 How to pass a dataframe to a specific JSON structure\n",
      "0.6078 Normalize strings in a dataframe or json list - python\n",
      "0.6065 Get all key-value pair from nested JSON array\n",
      "0.5951 How can I assign values to a json file manually\n",
      "0.5756 Using split to get particular words in python\n",
      "0.5722 Deserializing Json array of array in c#\n",
      "0.5525 How to make multiple REST calls asynchronous in python3\n",
      "0.5523 AttributeError: module 'pandas' has no attribute 'dataframe' How can i solve this?\n",
      "0.5516 How do I use JQ to select a handful of objects matching an ID in a large json file?\n",
      "0.5451 Read from every sheet in a .xlsx in python only using standard libraries\n",
      "0.5445 Copy or View nested Python dictionary - stop at certain depth\n",
      "0.5436 How can I scrape an apple HTML page using python?\n",
      "0.5429 is python using iso-8859-1 and utf-8 at the same time?\n",
      "0.5369 How N level object convert to N level Dictionary<string,object> this object can be Enumerable<Dictionary<string,object>> or object (without Json.Net)\n",
      "0.5265 Return Python dataclass with multiple objects from query\n",
      "0.5260 How can I isolate the final part of the string that I don't want with Python?\n",
      "0.5175 Pydantic object has no attribute '__fields_set__' error\n",
      "0.5118 AttributeError: 'AsyncResult' object has no attribute 'head'\n"
     ]
    }
   ],
   "source": [
    "# Test query\n",
    "response = my_index_endpoint.find_neighbors(\n",
    "    deployed_index_id=DEPLOYED_INDEX_ID,\n",
    "    queries=test_embeddings,\n",
    "    num_neighbors=20,\n",
    ")\n",
    "\n",
    "# show the result\n",
    "import numpy as np\n",
    "\n",
    "for idx, neighbor in enumerate(response[0]):\n",
    "    id = np.int64(neighbor.id)\n",
    "    similar = df.query(\"id == @id\", engine=\"python\")\n",
    "    print(f\"{neighbor.distance:.4f} {similar.title.values[0]}\")"
   ]
  },
  {
   "cell_type": "markdown",
   "metadata": {
    "id": "tPDOL9caoYZ9"
   },
   "source": [
    "The `find_neighbors` function only takes milliseconds to fetch the similar items even when you have billions of items on the Index, thanks to the ScaNN algorithm. Vector Search also supports [autoscaling](https://cloud.google.com/vertex-ai/docs/vector-search/deploy-index-public#autoscaling) which can automatically resize the number of nodes based on the demands of your workloads."
   ]
  },
  {
   "cell_type": "markdown",
   "metadata": {
    "id": "DDt4D6FDyc66"
   },
   "source": [
    "# IMPORTANT: Cleaning Up\n",
    "\n",
    "In case you are using your own Cloud project, not a temporary project on Qwiklab, please make sure to delete all the Indexes, Index Endpoints and Cloud Storage buckets after finishing this tutorial. Otherwise the remaining objects would **incur unexpected costs**.\n",
    "\n",
    "If you used Workbench, you may also need to delete the Notebooks from [the console](https://console.cloud.google.com/vertex-ai/workbench)."
   ]
  },
  {
   "cell_type": "code",
   "execution_count": 22,
   "metadata": {
    "id": "MEsKVzguyxNx",
    "tags": []
   },
   "outputs": [
    {
     "name": "stdin",
     "output_type": "stream",
     "text": [
      "Press Enter to delete Index Endpoint, Index and Cloud Storage bucket: \n"
     ]
    },
    {
     "name": "stdout",
     "output_type": "stream",
     "text": [
      "Undeploying MatchingEngineIndexEndpoint index_endpoint: projects/486565210005/locations/us-west1/indexEndpoints/5922611741992157184\n",
      "Undeploy MatchingEngineIndexEndpoint index_endpoint backing LRO: projects/486565210005/locations/us-west1/indexEndpoints/5922611741992157184/operations/5789260222996414464\n",
      "MatchingEngineIndexEndpoint index_endpoint undeployed. Resource name: projects/486565210005/locations/us-west1/indexEndpoints/5922611741992157184\n",
      "Deleting MatchingEngineIndexEndpoint : projects/486565210005/locations/us-west1/indexEndpoints/5922611741992157184\n",
      "MatchingEngineIndexEndpoint deleted. . Resource name: projects/486565210005/locations/us-west1/indexEndpoints/5922611741992157184\n",
      "Deleting MatchingEngineIndexEndpoint resource: projects/486565210005/locations/us-west1/indexEndpoints/5922611741992157184\n",
      "Delete MatchingEngineIndexEndpoint backing LRO: projects/486565210005/locations/us-west1/indexEndpoints/5922611741992157184/operations/1913912743644102656\n",
      "MatchingEngineIndexEndpoint resource projects/486565210005/locations/us-west1/indexEndpoints/5922611741992157184 deleted.\n",
      "Deleting MatchingEngineIndex : projects/486565210005/locations/us-west1/indexes/7059788240089251840\n",
      "MatchingEngineIndex deleted. . Resource name: projects/486565210005/locations/us-west1/indexes/7059788240089251840\n",
      "Deleting MatchingEngineIndex resource: projects/486565210005/locations/us-west1/indexes/7059788240089251840\n",
      "Delete MatchingEngineIndex backing LRO: projects/486565210005/locations/us-west1/indexes/7059788240089251840/operations/3483417213782720512\n",
      "MatchingEngineIndex resource projects/486565210005/locations/us-west1/indexes/7059788240089251840 deleted.\n",
      "Removing gs://qwiklabs-gcp-00-a999ccc82f08-embvs-tutorial-03041349/questions.json#1741097538415727...\n",
      "/ [1 objects]                                                                   \n",
      "Operation completed over 1 objects.                                              \n",
      "Removing gs://qwiklabs-gcp-00-a999ccc82f08-embvs-tutorial-03041349/...\n"
     ]
    }
   ],
   "source": [
    "# wait for a confirmation\n",
    "input(\"Press Enter to delete Index Endpoint, Index and Cloud Storage bucket:\")\n",
    "\n",
    "# delete Index Endpoint\n",
    "my_index_endpoint.undeploy_all()\n",
    "my_index_endpoint.delete(force=True)\n",
    "\n",
    "# delete Index\n",
    "my_index.delete()\n",
    "\n",
    "# delete Cloud Storage bucket\n",
    "! gsutil rm -r {BUCKET_URI}"
   ]
  },
  {
   "cell_type": "markdown",
   "metadata": {
    "id": "b8k26QOF3Ys7"
   },
   "source": [
    "# Summary\n",
    "\n",
    "## Grounding LLM outputs with Vertex AI Vector Search\n",
    "\n",
    "As we have seen, by combining the Embeddings API and Vector Search, you can use the embeddings to \"ground\" LLM outputs to real business data with low latency.\n",
    "\n",
    "For example, if an user asks a question, Embeddings API can convert it to an embedding, and issue a query on Vector Search to find similar embeddings in its index. Those embeddings represent the actual business data in the databases. As we are just retrieving the business data and not generating any artificial texts, there is no risk of having hallucinations in the result.\n",
    "\n",
    "![](https://storage.googleapis.com/gweb-cloudblog-publish/original_images/10._grounding.png)\n",
    "\n",
    "### The difference between the questions and answers\n",
    "\n",
    "In this tutorial, we have used the Stack Overflow dataset. There is a reason why we had to use it; As the dataset has many pairs of **questions and answers**, so you can just find questions similar to your question to find answers to it.\n",
    "\n",
    "In many business use cases, the semantics (meaning) of questions and answers are different. Also, there could be cases where you would want to add variety of recommended or personalized items to the results, like product search on e-commerce sites.\n",
    "\n",
    "In these cases, the simple semantics search don't work well. It's more like a recommendation system problem where you may want to train a model (e.g. Two-Tower model) to learn the relationship between the question embedding space and answer embedding space. Also, many production systems adds reranking phase after the semantic search to achieve higher search quality. Please see [Scaling deep retrieval with TensorFlow Recommenders and Vertex AI Matching Engine](https://cloud.google.com/blog/products/ai-machine-learning/scaling-deep-retrieval-tensorflow-two-towers-architecture) to learn more.\n",
    "\n",
    "### Hybrid of semantic + keyword search\n",
    "\n",
    "Another typical challenge you will face in production system is to support keyword search combined with the semantic search. For example, for e-commerce product search, you may want to let users find product by entering its product name or model number. As LLM doesn't memorize those product names or model numbers, semantic search can't handle those \"usual\" search functionalities.\n",
    "\n",
    "[Vertex AI Search](https://cloud.google.com/blog/products/ai-machine-learning/vertex-ai-search-and-conversation-is-now-generally-available) is another product you may consider for those requirements. While Vector Search provides a simple semantic search capability only, Search provides a integrated search solution that combines semantic search, keyword search, reranking and filtering, available as an out-of-the-box tool.\n",
    "\n",
    "### What about Retrieval Augmented Generation (RAG)?\n",
    "\n",
    "In this tutorial, we have looked at the simple combination of LLM embeddings and vector search. From this starting point, you may also extend the design to [Retrieval Augmented Generation (RAG)](https://www.google.com/search?q=Retrieval+Augmented+Generation+(RAG)&oq=Retrieval+Augmented+Generation+(RAG)).\n",
    "\n",
    "RAG is a popular architecture pattern of implementing grounding with LLM with text chat UI. The idea is to have the LLM text chat UI as a frontend for the document retrieval with vector search and summarization of the result.\n",
    "\n",
    "![](https://storage.googleapis.com/gweb-cloudblog-publish/images/Figure-7-Ask_Your_Documents_Flow.max-529x434.png)\n",
    "\n",
    "There are some pros and cons between the two solutions.\n",
    "\n",
    "| | Embeddings + vector search | RAG |\n",
    "|---|---|---|\n",
    "| Design | simple | complex |\n",
    "| UI | Text search UI | Text chat UI |\n",
    "| Summarization of result | No | Yes |\n",
    "| Multi-turn (Context aware) | No | Yes |\n",
    "| Latency | milliseconds | seconds |\n",
    "| Cost | lower | higher |\n",
    "| Hallucinations | No risk | Some risk |\n",
    "\n",
    "The Embedding + vector search pattern we have looked at with this tutorial provides simple, fast and low cost semantic search functionality with the LLM intelligence. RAG adds context-aware text chat experience and result summarization to it. While RAG provides the more \"Gen AI-ish\" experience, it also adds a risk of hallucination and higher cost and time for the text generation.\n",
    "\n",
    "To learn more about how to build a RAG solution, you may look at [Building Generative AI applications made easy with Vertex AI PaLM API and LangChain](https://cloud.google.com/blog/products/ai-machine-learning/generative-ai-applications-with-vertex-ai-palm-2-models-and-langchain).\n",
    "\n",
    "## Resources\n",
    "\n",
    "To learn more, please check out the following resources:\n",
    "\n",
    "### Documentations\n",
    "\n",
    "[Vertex AI Embeddings for Text API documentation\n",
    "](https://cloud.google.com/vertex-ai/docs/generative-ai/embeddings/get-text-embeddings)\n",
    "\n",
    "[Vector Search documentation](https://cloud.google.com/vertex-ai/docs/matching-engine/overview)\n",
    "\n",
    "### Vector Search blog posts\n",
    "\n",
    "[Vertex Matching Engine: Blazing fast and massively scalable nearest neighbor search](https://cloud.google.com/blog/products/ai-machine-learning/vertex-matching-engine-blazing-fast-and-massively-scalable-nearest-neighbor-search)\n",
    "\n",
    "[Find anything blazingly fast with Google's vector search technology](https://cloud.google.com/blog/topics/developers-practitioners/find-anything-blazingly-fast-googles-vector-search-technology)\n",
    "\n",
    "[Enabling real-time AI with Streaming Ingestion in Vertex AI](https://cloud.google.com/blog/products/ai-machine-learning/real-time-ai-with-google-cloud-vertex-ai)\n",
    "\n",
    "[Mercari leverages Google's vector search technology to create a new marketplace](https://cloud.google.com/blog/topics/developers-practitioners/mercari-leverages-googles-vector-search-technology-create-new-marketplace)\n",
    "\n",
    "[Recommending news articles using Vertex AI Matching Engine](https://cloud.google.com/blog/products/ai-machine-learning/recommending-articles-using-vertex-ai-matching-engine)\n",
    "\n",
    "[What is Multimodal Search: \"LLMs with vision\" change businesses](https://cloud.google.com/blog/products/ai-machine-learning/multimodal-generative-ai-search)"
   ]
  },
  {
   "cell_type": "markdown",
   "metadata": {
    "id": "BE1tELsH-u8N"
   },
   "source": [
    "# Utilities\n",
    "\n",
    "Sometimes it takes tens of minutes to create or deploy Indexes and you would lose connection with the Colab runtime. In that case, instead of creating or deploying new Index again, you can check [the Vector Search Console](https://console.cloud.google.com/vertex-ai/matching-engine/index-endpoints) and get the existing ones to continue."
   ]
  },
  {
   "cell_type": "markdown",
   "metadata": {
    "id": "wF_pkdpJ-yaq"
   },
   "source": [
    "## Get an existing Index\n",
    "\n",
    "To get an Index object that already exists, replace the following `[your-index-id]` with the index ID and run the cell. You can check the ID on [the Vector Search Console > INDEXES tab](https://console.cloud.google.com/vertex-ai/matching-engine/indexes)."
   ]
  },
  {
   "cell_type": "code",
   "execution_count": null,
   "metadata": {
    "id": "mEBkZZt_-0jG"
   },
   "outputs": [],
   "source": [
    "my_index_id = \"[your-index-id]\"  # @param {type:\"string\"}\n",
    "my_index = aiplatform.MatchingEngineIndex(my_index_id)"
   ]
  },
  {
   "cell_type": "markdown",
   "metadata": {
    "id": "_vlgzkyw-3CI"
   },
   "source": [
    "## Get an existing Index Endpoint\n",
    "\n",
    "To get an Index Endpoint object that already exists, replace the following `[your-index-endpoint-id]` with the Index Endpoint ID and run the cell. You can check the ID on [the Vector Search Console > INDEX ENDPOINTS tab](https://console.cloud.google.com/vertex-ai/matching-engine/index-endpoints)."
   ]
  },
  {
   "cell_type": "code",
   "execution_count": null,
   "metadata": {
    "id": "E0OFnirF-6Rk"
   },
   "outputs": [],
   "source": [
    "my_index_endpoint_id = \"[your-index-endpoint-id]\"  # @param {type:\"string\"}\n",
    "my_index_endpoint = aiplatform.MatchingEngineIndexEndpoint(my_index_endpoint_id)"
   ]
  }
 ],
 "metadata": {
  "colab": {
   "name": "intro-textemb-vectorsearch.ipynb",
   "toc_visible": true
  },
  "environment": {
   "kernel": "conda-base-py",
   "name": "workbench-notebooks.m128",
   "type": "gcloud",
   "uri": "us-docker.pkg.dev/deeplearning-platform-release/gcr.io/workbench-notebooks:m128"
  },
  "kernelspec": {
   "display_name": "Python 3 (ipykernel) (Local)",
   "language": "python",
   "name": "conda-base-py"
  },
  "language_info": {
   "codemirror_mode": {
    "name": "ipython",
    "version": 3
   },
   "file_extension": ".py",
   "mimetype": "text/x-python",
   "name": "python",
   "nbconvert_exporter": "python",
   "pygments_lexer": "ipython3",
   "version": "3.10.16"
  }
 },
 "nbformat": 4,
 "nbformat_minor": 4
}
